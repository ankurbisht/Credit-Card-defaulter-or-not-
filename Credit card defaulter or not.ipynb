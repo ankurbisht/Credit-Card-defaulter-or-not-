{
 "cells": [
  {
   "cell_type": "code",
   "execution_count": 1,
   "metadata": {},
   "outputs": [],
   "source": [
    "# importing libraries\n",
    "import pandas as pd\n",
    "import numpy as np\n",
    "import matplotlib.pyplot as plt\n",
    "import seaborn as sns"
   ]
  },
  {
   "cell_type": "code",
   "execution_count": 26,
   "metadata": {},
   "outputs": [],
   "source": [
    "import warnings\n",
    "from sklearn.exceptions import DataConversionWarning\n",
    "warnings.filterwarnings(action='ignore', category=DataConversionWarning)\n",
    "warnings.simplefilter(action='ignore', category=FutureWarning)"
   ]
  },
  {
   "cell_type": "code",
   "execution_count": 27,
   "metadata": {},
   "outputs": [],
   "source": [
    "import statsmodels.api as sm\n",
    "from scipy.stats import randint as sp_randint\n",
    "from sklearn.model_selection import GridSearchCV,RandomizedSearchCV\n",
    "from sklearn.model_selection import train_test_split\n",
    "from sklearn.model_selection import KFold,cross_val_score\n",
    "from sklearn.metrics import classification_report,confusion_matrix\n",
    "from sklearn.metrics import roc_auc_score, roc_curve, accuracy_score"
   ]
  },
  {
   "cell_type": "code",
   "execution_count": 28,
   "metadata": {},
   "outputs": [],
   "source": [
    "from sklearn.preprocessing import StandardScaler\n",
    "from sklearn.linear_model import LogisticRegression\n",
    "from sklearn.neighbors import KNeighborsClassifier\n",
    "from sklearn.tree import DecisionTreeClassifier\n",
    "from sklearn.naive_bayes import GaussianNB\n",
    "from sklearn.ensemble import RandomForestClassifier, AdaBoostClassifier\n",
    "from sklearn.ensemble import GradientBoostingClassifier, BaggingClassifier,VotingClassifier\n",
    "# from lightgbm import LGBMClassifier"
   ]
  },
  {
   "cell_type": "code",
   "execution_count": 2,
   "metadata": {},
   "outputs": [
    {
     "data": {
      "text/html": [
       "<div>\n",
       "<style scoped>\n",
       "    .dataframe tbody tr th:only-of-type {\n",
       "        vertical-align: middle;\n",
       "    }\n",
       "\n",
       "    .dataframe tbody tr th {\n",
       "        vertical-align: top;\n",
       "    }\n",
       "\n",
       "    .dataframe thead th {\n",
       "        text-align: right;\n",
       "    }\n",
       "</style>\n",
       "<table border=\"1\" class=\"dataframe\">\n",
       "  <thead>\n",
       "    <tr style=\"text-align: right;\">\n",
       "      <th></th>\n",
       "      <th>ID</th>\n",
       "      <th>LIMIT_BAL</th>\n",
       "      <th>SEX</th>\n",
       "      <th>EDUCATION</th>\n",
       "      <th>MARRIAGE</th>\n",
       "      <th>AGE</th>\n",
       "      <th>PAY_1</th>\n",
       "      <th>PAY_2</th>\n",
       "      <th>PAY_3</th>\n",
       "      <th>PAY_4</th>\n",
       "      <th>...</th>\n",
       "      <th>BILL_AMT4</th>\n",
       "      <th>BILL_AMT5</th>\n",
       "      <th>BILL_AMT6</th>\n",
       "      <th>PAY_AMT1</th>\n",
       "      <th>PAY_AMT2</th>\n",
       "      <th>PAY_AMT3</th>\n",
       "      <th>PAY_AMT4</th>\n",
       "      <th>PAY_AMT5</th>\n",
       "      <th>PAY_AMT6</th>\n",
       "      <th>DEFAULT</th>\n",
       "    </tr>\n",
       "  </thead>\n",
       "  <tbody>\n",
       "    <tr>\n",
       "      <td>0</td>\n",
       "      <td>1</td>\n",
       "      <td>20000</td>\n",
       "      <td>2</td>\n",
       "      <td>2</td>\n",
       "      <td>1</td>\n",
       "      <td>24</td>\n",
       "      <td>2</td>\n",
       "      <td>2</td>\n",
       "      <td>-1</td>\n",
       "      <td>-1</td>\n",
       "      <td>...</td>\n",
       "      <td>0</td>\n",
       "      <td>0</td>\n",
       "      <td>0</td>\n",
       "      <td>0</td>\n",
       "      <td>689</td>\n",
       "      <td>0</td>\n",
       "      <td>0</td>\n",
       "      <td>0</td>\n",
       "      <td>0</td>\n",
       "      <td>1</td>\n",
       "    </tr>\n",
       "    <tr>\n",
       "      <td>1</td>\n",
       "      <td>2</td>\n",
       "      <td>120000</td>\n",
       "      <td>2</td>\n",
       "      <td>2</td>\n",
       "      <td>2</td>\n",
       "      <td>26</td>\n",
       "      <td>-1</td>\n",
       "      <td>2</td>\n",
       "      <td>0</td>\n",
       "      <td>0</td>\n",
       "      <td>...</td>\n",
       "      <td>3272</td>\n",
       "      <td>3455</td>\n",
       "      <td>3261</td>\n",
       "      <td>0</td>\n",
       "      <td>1000</td>\n",
       "      <td>1000</td>\n",
       "      <td>1000</td>\n",
       "      <td>0</td>\n",
       "      <td>2000</td>\n",
       "      <td>1</td>\n",
       "    </tr>\n",
       "    <tr>\n",
       "      <td>2</td>\n",
       "      <td>3</td>\n",
       "      <td>90000</td>\n",
       "      <td>2</td>\n",
       "      <td>2</td>\n",
       "      <td>2</td>\n",
       "      <td>34</td>\n",
       "      <td>0</td>\n",
       "      <td>0</td>\n",
       "      <td>0</td>\n",
       "      <td>0</td>\n",
       "      <td>...</td>\n",
       "      <td>14331</td>\n",
       "      <td>14948</td>\n",
       "      <td>15549</td>\n",
       "      <td>1518</td>\n",
       "      <td>1500</td>\n",
       "      <td>1000</td>\n",
       "      <td>1000</td>\n",
       "      <td>1000</td>\n",
       "      <td>5000</td>\n",
       "      <td>0</td>\n",
       "    </tr>\n",
       "    <tr>\n",
       "      <td>3</td>\n",
       "      <td>4</td>\n",
       "      <td>50000</td>\n",
       "      <td>2</td>\n",
       "      <td>2</td>\n",
       "      <td>1</td>\n",
       "      <td>37</td>\n",
       "      <td>0</td>\n",
       "      <td>0</td>\n",
       "      <td>0</td>\n",
       "      <td>0</td>\n",
       "      <td>...</td>\n",
       "      <td>28314</td>\n",
       "      <td>28959</td>\n",
       "      <td>29547</td>\n",
       "      <td>2000</td>\n",
       "      <td>2019</td>\n",
       "      <td>1200</td>\n",
       "      <td>1100</td>\n",
       "      <td>1069</td>\n",
       "      <td>1000</td>\n",
       "      <td>0</td>\n",
       "    </tr>\n",
       "    <tr>\n",
       "      <td>4</td>\n",
       "      <td>5</td>\n",
       "      <td>50000</td>\n",
       "      <td>1</td>\n",
       "      <td>2</td>\n",
       "      <td>1</td>\n",
       "      <td>57</td>\n",
       "      <td>-1</td>\n",
       "      <td>0</td>\n",
       "      <td>-1</td>\n",
       "      <td>0</td>\n",
       "      <td>...</td>\n",
       "      <td>20940</td>\n",
       "      <td>19146</td>\n",
       "      <td>19131</td>\n",
       "      <td>2000</td>\n",
       "      <td>36681</td>\n",
       "      <td>10000</td>\n",
       "      <td>9000</td>\n",
       "      <td>689</td>\n",
       "      <td>679</td>\n",
       "      <td>0</td>\n",
       "    </tr>\n",
       "  </tbody>\n",
       "</table>\n",
       "<p>5 rows × 25 columns</p>\n",
       "</div>"
      ],
      "text/plain": [
       "   ID  LIMIT_BAL  SEX  EDUCATION  MARRIAGE  AGE  PAY_1  PAY_2  PAY_3  PAY_4  \\\n",
       "0   1      20000    2          2         1   24      2      2     -1     -1   \n",
       "1   2     120000    2          2         2   26     -1      2      0      0   \n",
       "2   3      90000    2          2         2   34      0      0      0      0   \n",
       "3   4      50000    2          2         1   37      0      0      0      0   \n",
       "4   5      50000    1          2         1   57     -1      0     -1      0   \n",
       "\n",
       "   ...  BILL_AMT4  BILL_AMT5  BILL_AMT6  PAY_AMT1  PAY_AMT2  PAY_AMT3  \\\n",
       "0  ...          0          0          0         0       689         0   \n",
       "1  ...       3272       3455       3261         0      1000      1000   \n",
       "2  ...      14331      14948      15549      1518      1500      1000   \n",
       "3  ...      28314      28959      29547      2000      2019      1200   \n",
       "4  ...      20940      19146      19131      2000     36681     10000   \n",
       "\n",
       "   PAY_AMT4  PAY_AMT5  PAY_AMT6  DEFAULT  \n",
       "0         0         0         0        1  \n",
       "1      1000         0      2000        1  \n",
       "2      1000      1000      5000        0  \n",
       "3      1100      1069      1000        0  \n",
       "4      9000       689       679        0  \n",
       "\n",
       "[5 rows x 25 columns]"
      ]
     },
     "execution_count": 2,
     "metadata": {},
     "output_type": "execute_result"
    }
   ],
   "source": [
    "# reading data\n",
    "credit = pd.read_csv('credit_card.csv')\n",
    "\n",
    "credit.head()"
   ]
  },
  {
   "cell_type": "code",
   "execution_count": 3,
   "metadata": {},
   "outputs": [
    {
     "data": {
      "text/plain": [
       "Index(['id', 'limit_bal', 'sex', 'education', 'marriage', 'age', 'pay_1',\n",
       "       'pay_2', 'pay_3', 'pay_4', 'pay_5', 'pay_6', 'bill_amt1', 'bill_amt2',\n",
       "       'bill_amt3', 'bill_amt4', 'bill_amt5', 'bill_amt6', 'pay_amt1',\n",
       "       'pay_amt2', 'pay_amt3', 'pay_amt4', 'pay_amt5', 'pay_amt6', 'default'],\n",
       "      dtype='object')"
      ]
     },
     "execution_count": 3,
     "metadata": {},
     "output_type": "execute_result"
    }
   ],
   "source": [
    "# converting column names in lower case\n",
    "\n",
    "credit.columns = map(str.lower, credit.columns)\n",
    "credit.columns"
   ]
  },
  {
   "cell_type": "code",
   "execution_count": 4,
   "metadata": {},
   "outputs": [
    {
     "data": {
      "text/html": [
       "<div>\n",
       "<style scoped>\n",
       "    .dataframe tbody tr th:only-of-type {\n",
       "        vertical-align: middle;\n",
       "    }\n",
       "\n",
       "    .dataframe tbody tr th {\n",
       "        vertical-align: top;\n",
       "    }\n",
       "\n",
       "    .dataframe thead th {\n",
       "        text-align: right;\n",
       "    }\n",
       "</style>\n",
       "<table border=\"1\" class=\"dataframe\">\n",
       "  <thead>\n",
       "    <tr style=\"text-align: right;\">\n",
       "      <th></th>\n",
       "      <th>id</th>\n",
       "      <th>limit_bal</th>\n",
       "      <th>sex</th>\n",
       "      <th>education</th>\n",
       "      <th>marriage</th>\n",
       "      <th>age</th>\n",
       "      <th>pay_1</th>\n",
       "      <th>pay_2</th>\n",
       "      <th>pay_3</th>\n",
       "      <th>pay_4</th>\n",
       "      <th>...</th>\n",
       "      <th>bill_amt4</th>\n",
       "      <th>bill_amt5</th>\n",
       "      <th>bill_amt6</th>\n",
       "      <th>pay_amt1</th>\n",
       "      <th>pay_amt2</th>\n",
       "      <th>pay_amt3</th>\n",
       "      <th>pay_amt4</th>\n",
       "      <th>pay_amt5</th>\n",
       "      <th>pay_amt6</th>\n",
       "      <th>default</th>\n",
       "    </tr>\n",
       "  </thead>\n",
       "  <tbody>\n",
       "    <tr>\n",
       "      <td>0</td>\n",
       "      <td>1</td>\n",
       "      <td>20000</td>\n",
       "      <td>2</td>\n",
       "      <td>2</td>\n",
       "      <td>1</td>\n",
       "      <td>24</td>\n",
       "      <td>2</td>\n",
       "      <td>2</td>\n",
       "      <td>-1</td>\n",
       "      <td>-1</td>\n",
       "      <td>...</td>\n",
       "      <td>0</td>\n",
       "      <td>0</td>\n",
       "      <td>0</td>\n",
       "      <td>0</td>\n",
       "      <td>689</td>\n",
       "      <td>0</td>\n",
       "      <td>0</td>\n",
       "      <td>0</td>\n",
       "      <td>0</td>\n",
       "      <td>1</td>\n",
       "    </tr>\n",
       "    <tr>\n",
       "      <td>1</td>\n",
       "      <td>2</td>\n",
       "      <td>120000</td>\n",
       "      <td>2</td>\n",
       "      <td>2</td>\n",
       "      <td>2</td>\n",
       "      <td>26</td>\n",
       "      <td>-1</td>\n",
       "      <td>2</td>\n",
       "      <td>0</td>\n",
       "      <td>0</td>\n",
       "      <td>...</td>\n",
       "      <td>3272</td>\n",
       "      <td>3455</td>\n",
       "      <td>3261</td>\n",
       "      <td>0</td>\n",
       "      <td>1000</td>\n",
       "      <td>1000</td>\n",
       "      <td>1000</td>\n",
       "      <td>0</td>\n",
       "      <td>2000</td>\n",
       "      <td>1</td>\n",
       "    </tr>\n",
       "  </tbody>\n",
       "</table>\n",
       "<p>2 rows × 25 columns</p>\n",
       "</div>"
      ],
      "text/plain": [
       "   id  limit_bal  sex  education  marriage  age  pay_1  pay_2  pay_3  pay_4  \\\n",
       "0   1      20000    2          2         1   24      2      2     -1     -1   \n",
       "1   2     120000    2          2         2   26     -1      2      0      0   \n",
       "\n",
       "   ...  bill_amt4  bill_amt5  bill_amt6  pay_amt1  pay_amt2  pay_amt3  \\\n",
       "0  ...          0          0          0         0       689         0   \n",
       "1  ...       3272       3455       3261         0      1000      1000   \n",
       "\n",
       "   pay_amt4  pay_amt5  pay_amt6  default  \n",
       "0         0         0         0        1  \n",
       "1      1000         0      2000        1  \n",
       "\n",
       "[2 rows x 25 columns]"
      ]
     },
     "execution_count": 4,
     "metadata": {},
     "output_type": "execute_result"
    }
   ],
   "source": [
    "df = credit.copy()\n",
    "\n",
    "df.head(2)"
   ]
  },
  {
   "cell_type": "code",
   "execution_count": 5,
   "metadata": {},
   "outputs": [],
   "source": [
    "# droping id col(irrelevant)\n",
    "\n",
    "df.drop('id',axis=1,inplace=True)"
   ]
  },
  {
   "cell_type": "code",
   "execution_count": 6,
   "metadata": {},
   "outputs": [
    {
     "data": {
      "text/html": [
       "<div>\n",
       "<style scoped>\n",
       "    .dataframe tbody tr th:only-of-type {\n",
       "        vertical-align: middle;\n",
       "    }\n",
       "\n",
       "    .dataframe tbody tr th {\n",
       "        vertical-align: top;\n",
       "    }\n",
       "\n",
       "    .dataframe thead th {\n",
       "        text-align: right;\n",
       "    }\n",
       "</style>\n",
       "<table border=\"1\" class=\"dataframe\">\n",
       "  <thead>\n",
       "    <tr style=\"text-align: right;\">\n",
       "      <th></th>\n",
       "      <th>count</th>\n",
       "      <th>mean</th>\n",
       "      <th>std</th>\n",
       "      <th>min</th>\n",
       "      <th>25%</th>\n",
       "      <th>50%</th>\n",
       "      <th>75%</th>\n",
       "      <th>max</th>\n",
       "    </tr>\n",
       "  </thead>\n",
       "  <tbody>\n",
       "    <tr>\n",
       "      <td>limit_bal</td>\n",
       "      <td>30000.0</td>\n",
       "      <td>167484.322667</td>\n",
       "      <td>129747.661567</td>\n",
       "      <td>10000.0</td>\n",
       "      <td>50000.00</td>\n",
       "      <td>140000.0</td>\n",
       "      <td>240000.00</td>\n",
       "      <td>1000000.0</td>\n",
       "    </tr>\n",
       "    <tr>\n",
       "      <td>sex</td>\n",
       "      <td>30000.0</td>\n",
       "      <td>1.603733</td>\n",
       "      <td>0.489129</td>\n",
       "      <td>1.0</td>\n",
       "      <td>1.00</td>\n",
       "      <td>2.0</td>\n",
       "      <td>2.00</td>\n",
       "      <td>2.0</td>\n",
       "    </tr>\n",
       "    <tr>\n",
       "      <td>education</td>\n",
       "      <td>30000.0</td>\n",
       "      <td>1.853133</td>\n",
       "      <td>0.790349</td>\n",
       "      <td>0.0</td>\n",
       "      <td>1.00</td>\n",
       "      <td>2.0</td>\n",
       "      <td>2.00</td>\n",
       "      <td>6.0</td>\n",
       "    </tr>\n",
       "    <tr>\n",
       "      <td>marriage</td>\n",
       "      <td>30000.0</td>\n",
       "      <td>1.551867</td>\n",
       "      <td>0.521970</td>\n",
       "      <td>0.0</td>\n",
       "      <td>1.00</td>\n",
       "      <td>2.0</td>\n",
       "      <td>2.00</td>\n",
       "      <td>3.0</td>\n",
       "    </tr>\n",
       "    <tr>\n",
       "      <td>age</td>\n",
       "      <td>30000.0</td>\n",
       "      <td>35.485500</td>\n",
       "      <td>9.217904</td>\n",
       "      <td>21.0</td>\n",
       "      <td>28.00</td>\n",
       "      <td>34.0</td>\n",
       "      <td>41.00</td>\n",
       "      <td>79.0</td>\n",
       "    </tr>\n",
       "    <tr>\n",
       "      <td>pay_1</td>\n",
       "      <td>30000.0</td>\n",
       "      <td>-0.016700</td>\n",
       "      <td>1.123802</td>\n",
       "      <td>-2.0</td>\n",
       "      <td>-1.00</td>\n",
       "      <td>0.0</td>\n",
       "      <td>0.00</td>\n",
       "      <td>8.0</td>\n",
       "    </tr>\n",
       "    <tr>\n",
       "      <td>pay_2</td>\n",
       "      <td>30000.0</td>\n",
       "      <td>-0.133767</td>\n",
       "      <td>1.197186</td>\n",
       "      <td>-2.0</td>\n",
       "      <td>-1.00</td>\n",
       "      <td>0.0</td>\n",
       "      <td>0.00</td>\n",
       "      <td>8.0</td>\n",
       "    </tr>\n",
       "    <tr>\n",
       "      <td>pay_3</td>\n",
       "      <td>30000.0</td>\n",
       "      <td>-0.166200</td>\n",
       "      <td>1.196868</td>\n",
       "      <td>-2.0</td>\n",
       "      <td>-1.00</td>\n",
       "      <td>0.0</td>\n",
       "      <td>0.00</td>\n",
       "      <td>8.0</td>\n",
       "    </tr>\n",
       "    <tr>\n",
       "      <td>pay_4</td>\n",
       "      <td>30000.0</td>\n",
       "      <td>-0.220667</td>\n",
       "      <td>1.169139</td>\n",
       "      <td>-2.0</td>\n",
       "      <td>-1.00</td>\n",
       "      <td>0.0</td>\n",
       "      <td>0.00</td>\n",
       "      <td>8.0</td>\n",
       "    </tr>\n",
       "    <tr>\n",
       "      <td>pay_5</td>\n",
       "      <td>30000.0</td>\n",
       "      <td>-0.266200</td>\n",
       "      <td>1.133187</td>\n",
       "      <td>-2.0</td>\n",
       "      <td>-1.00</td>\n",
       "      <td>0.0</td>\n",
       "      <td>0.00</td>\n",
       "      <td>8.0</td>\n",
       "    </tr>\n",
       "    <tr>\n",
       "      <td>pay_6</td>\n",
       "      <td>30000.0</td>\n",
       "      <td>-0.291100</td>\n",
       "      <td>1.149988</td>\n",
       "      <td>-2.0</td>\n",
       "      <td>-1.00</td>\n",
       "      <td>0.0</td>\n",
       "      <td>0.00</td>\n",
       "      <td>8.0</td>\n",
       "    </tr>\n",
       "    <tr>\n",
       "      <td>bill_amt1</td>\n",
       "      <td>30000.0</td>\n",
       "      <td>51223.330900</td>\n",
       "      <td>73635.860576</td>\n",
       "      <td>-165580.0</td>\n",
       "      <td>3558.75</td>\n",
       "      <td>22381.5</td>\n",
       "      <td>67091.00</td>\n",
       "      <td>964511.0</td>\n",
       "    </tr>\n",
       "    <tr>\n",
       "      <td>bill_amt2</td>\n",
       "      <td>30000.0</td>\n",
       "      <td>49179.075167</td>\n",
       "      <td>71173.768783</td>\n",
       "      <td>-69777.0</td>\n",
       "      <td>2984.75</td>\n",
       "      <td>21200.0</td>\n",
       "      <td>64006.25</td>\n",
       "      <td>983931.0</td>\n",
       "    </tr>\n",
       "    <tr>\n",
       "      <td>bill_amt3</td>\n",
       "      <td>30000.0</td>\n",
       "      <td>47013.154800</td>\n",
       "      <td>69349.387427</td>\n",
       "      <td>-157264.0</td>\n",
       "      <td>2666.25</td>\n",
       "      <td>20088.5</td>\n",
       "      <td>60164.75</td>\n",
       "      <td>1664089.0</td>\n",
       "    </tr>\n",
       "    <tr>\n",
       "      <td>bill_amt4</td>\n",
       "      <td>30000.0</td>\n",
       "      <td>43262.948967</td>\n",
       "      <td>64332.856134</td>\n",
       "      <td>-170000.0</td>\n",
       "      <td>2326.75</td>\n",
       "      <td>19052.0</td>\n",
       "      <td>54506.00</td>\n",
       "      <td>891586.0</td>\n",
       "    </tr>\n",
       "    <tr>\n",
       "      <td>bill_amt5</td>\n",
       "      <td>30000.0</td>\n",
       "      <td>40311.400967</td>\n",
       "      <td>60797.155770</td>\n",
       "      <td>-81334.0</td>\n",
       "      <td>1763.00</td>\n",
       "      <td>18104.5</td>\n",
       "      <td>50190.50</td>\n",
       "      <td>927171.0</td>\n",
       "    </tr>\n",
       "    <tr>\n",
       "      <td>bill_amt6</td>\n",
       "      <td>30000.0</td>\n",
       "      <td>38871.760400</td>\n",
       "      <td>59554.107537</td>\n",
       "      <td>-339603.0</td>\n",
       "      <td>1256.00</td>\n",
       "      <td>17071.0</td>\n",
       "      <td>49198.25</td>\n",
       "      <td>961664.0</td>\n",
       "    </tr>\n",
       "    <tr>\n",
       "      <td>pay_amt1</td>\n",
       "      <td>30000.0</td>\n",
       "      <td>5663.580500</td>\n",
       "      <td>16563.280354</td>\n",
       "      <td>0.0</td>\n",
       "      <td>1000.00</td>\n",
       "      <td>2100.0</td>\n",
       "      <td>5006.00</td>\n",
       "      <td>873552.0</td>\n",
       "    </tr>\n",
       "    <tr>\n",
       "      <td>pay_amt2</td>\n",
       "      <td>30000.0</td>\n",
       "      <td>5921.163500</td>\n",
       "      <td>23040.870402</td>\n",
       "      <td>0.0</td>\n",
       "      <td>833.00</td>\n",
       "      <td>2009.0</td>\n",
       "      <td>5000.00</td>\n",
       "      <td>1684259.0</td>\n",
       "    </tr>\n",
       "    <tr>\n",
       "      <td>pay_amt3</td>\n",
       "      <td>30000.0</td>\n",
       "      <td>5225.681500</td>\n",
       "      <td>17606.961470</td>\n",
       "      <td>0.0</td>\n",
       "      <td>390.00</td>\n",
       "      <td>1800.0</td>\n",
       "      <td>4505.00</td>\n",
       "      <td>896040.0</td>\n",
       "    </tr>\n",
       "    <tr>\n",
       "      <td>pay_amt4</td>\n",
       "      <td>30000.0</td>\n",
       "      <td>4826.076867</td>\n",
       "      <td>15666.159744</td>\n",
       "      <td>0.0</td>\n",
       "      <td>296.00</td>\n",
       "      <td>1500.0</td>\n",
       "      <td>4013.25</td>\n",
       "      <td>621000.0</td>\n",
       "    </tr>\n",
       "    <tr>\n",
       "      <td>pay_amt5</td>\n",
       "      <td>30000.0</td>\n",
       "      <td>4799.387633</td>\n",
       "      <td>15278.305679</td>\n",
       "      <td>0.0</td>\n",
       "      <td>252.50</td>\n",
       "      <td>1500.0</td>\n",
       "      <td>4031.50</td>\n",
       "      <td>426529.0</td>\n",
       "    </tr>\n",
       "    <tr>\n",
       "      <td>pay_amt6</td>\n",
       "      <td>30000.0</td>\n",
       "      <td>5215.502567</td>\n",
       "      <td>17777.465775</td>\n",
       "      <td>0.0</td>\n",
       "      <td>117.75</td>\n",
       "      <td>1500.0</td>\n",
       "      <td>4000.00</td>\n",
       "      <td>528666.0</td>\n",
       "    </tr>\n",
       "    <tr>\n",
       "      <td>default</td>\n",
       "      <td>30000.0</td>\n",
       "      <td>0.221200</td>\n",
       "      <td>0.415062</td>\n",
       "      <td>0.0</td>\n",
       "      <td>0.00</td>\n",
       "      <td>0.0</td>\n",
       "      <td>0.00</td>\n",
       "      <td>1.0</td>\n",
       "    </tr>\n",
       "  </tbody>\n",
       "</table>\n",
       "</div>"
      ],
      "text/plain": [
       "             count           mean            std       min       25%  \\\n",
       "limit_bal  30000.0  167484.322667  129747.661567   10000.0  50000.00   \n",
       "sex        30000.0       1.603733       0.489129       1.0      1.00   \n",
       "education  30000.0       1.853133       0.790349       0.0      1.00   \n",
       "marriage   30000.0       1.551867       0.521970       0.0      1.00   \n",
       "age        30000.0      35.485500       9.217904      21.0     28.00   \n",
       "pay_1      30000.0      -0.016700       1.123802      -2.0     -1.00   \n",
       "pay_2      30000.0      -0.133767       1.197186      -2.0     -1.00   \n",
       "pay_3      30000.0      -0.166200       1.196868      -2.0     -1.00   \n",
       "pay_4      30000.0      -0.220667       1.169139      -2.0     -1.00   \n",
       "pay_5      30000.0      -0.266200       1.133187      -2.0     -1.00   \n",
       "pay_6      30000.0      -0.291100       1.149988      -2.0     -1.00   \n",
       "bill_amt1  30000.0   51223.330900   73635.860576 -165580.0   3558.75   \n",
       "bill_amt2  30000.0   49179.075167   71173.768783  -69777.0   2984.75   \n",
       "bill_amt3  30000.0   47013.154800   69349.387427 -157264.0   2666.25   \n",
       "bill_amt4  30000.0   43262.948967   64332.856134 -170000.0   2326.75   \n",
       "bill_amt5  30000.0   40311.400967   60797.155770  -81334.0   1763.00   \n",
       "bill_amt6  30000.0   38871.760400   59554.107537 -339603.0   1256.00   \n",
       "pay_amt1   30000.0    5663.580500   16563.280354       0.0   1000.00   \n",
       "pay_amt2   30000.0    5921.163500   23040.870402       0.0    833.00   \n",
       "pay_amt3   30000.0    5225.681500   17606.961470       0.0    390.00   \n",
       "pay_amt4   30000.0    4826.076867   15666.159744       0.0    296.00   \n",
       "pay_amt5   30000.0    4799.387633   15278.305679       0.0    252.50   \n",
       "pay_amt6   30000.0    5215.502567   17777.465775       0.0    117.75   \n",
       "default    30000.0       0.221200       0.415062       0.0      0.00   \n",
       "\n",
       "                50%        75%        max  \n",
       "limit_bal  140000.0  240000.00  1000000.0  \n",
       "sex             2.0       2.00        2.0  \n",
       "education       2.0       2.00        6.0  \n",
       "marriage        2.0       2.00        3.0  \n",
       "age            34.0      41.00       79.0  \n",
       "pay_1           0.0       0.00        8.0  \n",
       "pay_2           0.0       0.00        8.0  \n",
       "pay_3           0.0       0.00        8.0  \n",
       "pay_4           0.0       0.00        8.0  \n",
       "pay_5           0.0       0.00        8.0  \n",
       "pay_6           0.0       0.00        8.0  \n",
       "bill_amt1   22381.5   67091.00   964511.0  \n",
       "bill_amt2   21200.0   64006.25   983931.0  \n",
       "bill_amt3   20088.5   60164.75  1664089.0  \n",
       "bill_amt4   19052.0   54506.00   891586.0  \n",
       "bill_amt5   18104.5   50190.50   927171.0  \n",
       "bill_amt6   17071.0   49198.25   961664.0  \n",
       "pay_amt1     2100.0    5006.00   873552.0  \n",
       "pay_amt2     2009.0    5000.00  1684259.0  \n",
       "pay_amt3     1800.0    4505.00   896040.0  \n",
       "pay_amt4     1500.0    4013.25   621000.0  \n",
       "pay_amt5     1500.0    4031.50   426529.0  \n",
       "pay_amt6     1500.0    4000.00   528666.0  \n",
       "default         0.0       0.00        1.0  "
      ]
     },
     "execution_count": 6,
     "metadata": {},
     "output_type": "execute_result"
    }
   ],
   "source": [
    "df.describe().T"
   ]
  },
  {
   "cell_type": "code",
   "execution_count": 7,
   "metadata": {},
   "outputs": [
    {
     "name": "stdout",
     "output_type": "stream",
     "text": [
      "limit_bal has no null values.\n",
      "sex has no null values.\n",
      "education has no null values.\n",
      "marriage has no null values.\n",
      "age has no null values.\n",
      "pay_1 has no null values.\n",
      "pay_2 has no null values.\n",
      "pay_3 has no null values.\n",
      "pay_4 has no null values.\n",
      "pay_5 has no null values.\n",
      "pay_6 has no null values.\n",
      "bill_amt1 has no null values.\n",
      "bill_amt2 has no null values.\n",
      "bill_amt3 has no null values.\n",
      "bill_amt4 has no null values.\n",
      "bill_amt5 has no null values.\n",
      "bill_amt6 has no null values.\n",
      "pay_amt1 has no null values.\n",
      "pay_amt2 has no null values.\n",
      "pay_amt3 has no null values.\n",
      "pay_amt4 has no null values.\n",
      "pay_amt5 has no null values.\n",
      "pay_amt6 has no null values.\n",
      "default has no null values.\n"
     ]
    }
   ],
   "source": [
    "## Checking Null Values\n",
    "\n",
    "for i in df.columns:\n",
    "    if df[i].isnull().sum()>0:\n",
    "        print(i,' has null values.' )\n",
    "    else:\n",
    "        print(i,'has no null values.')"
   ]
  },
  {
   "cell_type": "code",
   "execution_count": 8,
   "metadata": {},
   "outputs": [
    {
     "name": "stdout",
     "output_type": "stream",
     "text": [
      "0    77.88\n",
      "1    22.12\n",
      "Name: default, dtype: float64\n"
     ]
    },
    {
     "data": {
      "image/png": "[encoded data removed]",
      "text/plain": [
       "<Figure size 432x288 with 1 Axes>"
      ]
     },
     "metadata": {
      "needs_background": "light"
     },
     "output_type": "display_data"
    }
   ],
   "source": [
    "# Checking Imbalance in the Target Column\n",
    "\n",
    "print(df['default'].value_counts(normalize=True)*100)\n",
    "sns.countplot(x='default',data=df)\n",
    "plt.show()"
   ]
  },
  {
   "cell_type": "markdown",
   "metadata": {},
   "source": [
    "**Non-defaulters are 77.88% and Defaulters are 22.12% of the whole data.**"
   ]
  },
  {
   "cell_type": "code",
   "execution_count": 9,
   "metadata": {
    "scrolled": true
   },
   "outputs": [
    {
     "name": "stdout",
     "output_type": "stream",
     "text": [
      "2    15964\n",
      "1    13659\n",
      "3      323\n",
      "0       54\n",
      "Name: marriage, dtype: int64\n",
      "2    18112\n",
      "1    11888\n",
      "Name: sex, dtype: int64\n",
      "2    14030\n",
      "1    10585\n",
      "3     4917\n",
      "5      280\n",
      "4      123\n",
      "6       51\n",
      "0       14\n",
      "Name: education, dtype: int64\n"
     ]
    }
   ],
   "source": [
    "# as we can see there are values in these columns whose decription is not provided\n",
    "\n",
    "print(df.marriage.value_counts())\n",
    "print(df.sex.value_counts())\n",
    "print(df.education.value_counts())"
   ]
  },
  {
   "cell_type": "code",
   "execution_count": 10,
   "metadata": {},
   "outputs": [],
   "source": [
    "# replacing not specified values in others category\n",
    "\n",
    "df['education']  = df['education'].apply(lambda x:x if (x>0 and x<4) else 4)\n",
    "df['marriage'] = df['marriage'].apply(lambda x:x if (x>0 and x<3) else 3)"
   ]
  },
  {
   "cell_type": "code",
   "execution_count": 11,
   "metadata": {},
   "outputs": [
    {
     "name": "stdout",
     "output_type": "stream",
     "text": [
      "2    15964\n",
      "1    13659\n",
      "3      377\n",
      "Name: marriage, dtype: int64\n",
      "2    18112\n",
      "1    11888\n",
      "Name: sex, dtype: int64\n",
      "2    14030\n",
      "1    10585\n",
      "3     4917\n",
      "4      468\n",
      "Name: education, dtype: int64\n"
     ]
    }
   ],
   "source": [
    "print(df.marriage.value_counts())\n",
    "print(df.sex.value_counts())\n",
    "print(df.education.value_counts())"
   ]
  },
  {
   "cell_type": "raw",
   "metadata": {},
   "source": [
    "1 = graduate school; 2 = university; 3 = high school; 4 = others\n",
    "1 = married; 2 = single; 3 = others\n",
    "2 = female; 1 = male"
   ]
  },
  {
   "cell_type": "code",
   "execution_count": 12,
   "metadata": {},
   "outputs": [],
   "source": [
    "# before applying get dummies replacing encoded value by string value for better understanding\n",
    "\n",
    "df['sex'].replace({2:'female',1:'male'},inplace=True)\n",
    "df['education'].replace({1:'grad_school',2:'university',3:'high_school',4:'others'},inplace=True)\n",
    "df['marriage'].replace({1:'married',2:'single',3:'others'},inplace=True)"
   ]
  },
  {
   "cell_type": "code",
   "execution_count": 13,
   "metadata": {},
   "outputs": [
    {
     "name": "stdout",
     "output_type": "stream",
     "text": [
      "single     15964\n",
      "married    13659\n",
      "others       377\n",
      "Name: marriage, dtype: int64\n",
      "female    18112\n",
      "male      11888\n",
      "Name: sex, dtype: int64\n",
      "university     14030\n",
      "grad_school    10585\n",
      "high_school     4917\n",
      "others           468\n",
      "Name: education, dtype: int64\n"
     ]
    }
   ],
   "source": [
    "print(df.marriage.value_counts())\n",
    "print(df.sex.value_counts())\n",
    "print(df.education.value_counts())"
   ]
  },
  {
   "cell_type": "markdown",
   "metadata": {},
   "source": [
    "# Exploratory Data Analysis\n",
    "\n",
    "**1. SEX Column**"
   ]
  },
  {
   "cell_type": "code",
   "execution_count": 14,
   "metadata": {},
   "outputs": [
    {
     "name": "stdout",
     "output_type": "stream",
     "text": [
      "female    60.373333\n",
      "male      39.626667\n",
      "Name: sex, dtype: float64\n"
     ]
    },
    {
     "data": {
      "image/png": "[encoded data removed]",
      "text/plain": [
       "<Figure size 432x288 with 1 Axes>"
      ]
     },
     "metadata": {
      "needs_background": "light"
     },
     "output_type": "display_data"
    }
   ],
   "source": [
    "print(df['sex'].value_counts(normalize=True)*100) # proportion of sex who are default\n",
    "sns.countplot(x='sex',data=df)\n",
    "\n",
    "plt.show()"
   ]
  },
  {
   "cell_type": "code",
   "execution_count": 15,
   "metadata": {},
   "outputs": [
    {
     "name": "stdout",
     "output_type": "stream",
     "text": [
      "female    56.705847\n",
      "male      43.294153\n",
      "Name: sex, dtype: float64\n"
     ]
    },
    {
     "data": {
      "image/png": "[encoded data removed]",
      "text/plain": [
       "<Figure size 432x288 with 1 Axes>"
      ]
     },
     "metadata": {
      "needs_background": "light"
     },
     "output_type": "display_data"
    }
   ],
   "source": [
    "print(df[df['default']==1]['sex'].value_counts(normalize=True)*100) \n",
    "\n",
    "sns.countplot(x='sex', hue = 'default',data=df)\n",
    "\n",
    "plt.show()"
   ]
  },
  {
   "cell_type": "markdown",
   "metadata": {},
   "source": [
    "**2. EDUCATION Column**"
   ]
  },
  {
   "cell_type": "code",
   "execution_count": 16,
   "metadata": {},
   "outputs": [
    {
     "name": "stdout",
     "output_type": "stream",
     "text": [
      "university     46.766667\n",
      "grad_school    35.283333\n",
      "high_school    16.390000\n",
      "others          1.560000\n",
      "Name: education, dtype: float64\n"
     ]
    },
    {
     "data": {
      "image/png": "[encoded data removed]",
      "text/plain": [
       "<Figure size 432x288 with 1 Axes>"
      ]
     },
     "metadata": {
      "needs_background": "light"
     },
     "output_type": "display_data"
    }
   ],
   "source": [
    "print(df['education'].value_counts(normalize=True)*100)\n",
    "\n",
    "sns.countplot(x='education',data=df)\n",
    "\n",
    "plt.show()"
   ]
  },
  {
   "cell_type": "code",
   "execution_count": 17,
   "metadata": {},
   "outputs": [
    {
     "name": "stdout",
     "output_type": "stream",
     "text": [
      "university     50.180832\n",
      "grad_school    30.681133\n",
      "high_school    18.640747\n",
      "others          0.497288\n",
      "Name: education, dtype: float64\n"
     ]
    },
    {
     "data": {
      "image/png": "[encoded data removed]",
      "text/plain": [
       "<Figure size 432x288 with 1 Axes>"
      ]
     },
     "metadata": {
      "needs_background": "light"
     },
     "output_type": "display_data"
    }
   ],
   "source": [
    "print(df[df['default']==1]['education'].value_counts(normalize=True)*100)\n",
    "\n",
    "sns.countplot(x='education', hue = 'default',data=df)\n",
    "\n",
    "plt.show()"
   ]
  },
  {
   "cell_type": "markdown",
   "metadata": {},
   "source": [
    "**3. AGE Column**"
   ]
  },
  {
   "cell_type": "code",
   "execution_count": 18,
   "metadata": {},
   "outputs": [
    {
     "name": "stdout",
     "output_type": "stream",
     "text": [
      "Mean age of the sample:  35.4855\n",
      "Median age of the sample:  34.0\n",
      "Mode of the sample:  29\n"
     ]
    },
    {
     "data": {
      "image/png": "[encoded data removed]",
      "text/plain": [
       "<Figure size 432x288 with 1 Axes>"
      ]
     },
     "metadata": {
      "needs_background": "light"
     },
     "output_type": "display_data"
    }
   ],
   "source": [
    "print('Mean age of the sample: ',df['age'].mean())\n",
    "print('Median age of the sample: ',df['age'].median())\n",
    "print('Mode of the sample: ',df['age'].mode()[0])\n",
    "\n",
    "sns.distplot(df['age'],bins=5)\n",
    "plt.show()"
   ]
  },
  {
   "cell_type": "markdown",
   "metadata": {},
   "source": [
    "**4. MARRIAGE Column**"
   ]
  },
  {
   "cell_type": "code",
   "execution_count": 19,
   "metadata": {},
   "outputs": [
    {
     "name": "stdout",
     "output_type": "stream",
     "text": [
      "single     53.213333\n",
      "married    45.530000\n",
      "others      1.256667\n",
      "Name: marriage, dtype: float64\n"
     ]
    },
    {
     "data": {
      "image/png": "[encoded data removed]",
      "text/plain": [
       "<Figure size 432x288 with 1 Axes>"
      ]
     },
     "metadata": {
      "needs_background": "light"
     },
     "output_type": "display_data"
    }
   ],
   "source": [
    "print(df['marriage'].value_counts(normalize=True)*100)\n",
    "\n",
    "sns.countplot(x='marriage',data=df)\n",
    "\n",
    "plt.show()"
   ]
  },
  {
   "cell_type": "code",
   "execution_count": 20,
   "metadata": {},
   "outputs": [
    {
     "name": "stdout",
     "output_type": "stream",
     "text": [
      "single     50.346594\n",
      "married    48.312236\n",
      "others      1.341169\n",
      "Name: marriage, dtype: float64\n"
     ]
    },
    {
     "data": {
      "image/png": "[encoded data removed]",
      "text/plain": [
       "<Figure size 432x288 with 1 Axes>"
      ]
     },
     "metadata": {
      "needs_background": "light"
     },
     "output_type": "display_data"
    }
   ],
   "source": [
    "print(df[df['default']==1]['marriage'].value_counts(normalize=True)*100)\n",
    "\n",
    "sns.countplot(x='marriage', hue = 'default',data=df)\n",
    "\n",
    "plt.show()"
   ]
  },
  {
   "cell_type": "markdown",
   "metadata": {},
   "source": [
    "**4. REPAYMENT STATUS Columns**"
   ]
  },
  {
   "cell_type": "code",
   "execution_count": 21,
   "metadata": {},
   "outputs": [
    {
     "data": {
      "image/png": "[encoded data removed]",
      "text/plain": [
       "<Figure size 1296x864 with 6 Axes>"
      ]
     },
     "metadata": {},
     "output_type": "display_data"
    }
   ],
   "source": [
    "f, axes = plt.subplots(2, 3, figsize=(18,12), facecolor='white')\n",
    "f.suptitle(\"FREQUENCY OF REPAYMENT STATUS (BY TARGET)\",size=15)\n",
    "ax1 = sns.countplot(x='pay_1', hue = 'default', data=df, palette='Reds', ax=axes[0,0])\n",
    "ax2 = sns.countplot(x='pay_2', hue = 'default', data=df, palette='Reds', ax=axes[0,1])\n",
    "ax3 = sns.countplot(x='pay_3', hue = 'default', data=df, palette='Reds', ax=axes[0,2])\n",
    "ax4 = sns.countplot(x='pay_4', hue = 'default', data=df, palette='Reds', ax=axes[1,0])\n",
    "ax5 = sns.countplot(x='pay_5', hue = 'default', data=df, palette='Reds', ax=axes[1,1])\n",
    "ax6 = sns.countplot(x='pay_6', hue = 'default', data=df, palette='Reds', ax=axes[1,2])\n",
    "plt.show()"
   ]
  },
  {
   "cell_type": "markdown",
   "metadata": {},
   "source": [
    "**5. Checking correlation between Bill_Amt**"
   ]
  },
  {
   "cell_type": "code",
   "execution_count": 22,
   "metadata": {},
   "outputs": [
    {
     "name": "stdout",
     "output_type": "stream",
     "text": [
      "           bill_amt1  bill_amt2  bill_amt3  bill_amt4  bill_amt5  bill_amt6\n",
      "bill_amt1   1.000000   0.951484   0.892279   0.860272   0.829779   0.802650\n",
      "bill_amt2   0.951484   1.000000   0.928326   0.892482   0.859778   0.831594\n",
      "bill_amt3   0.892279   0.928326   1.000000   0.923969   0.883910   0.853320\n",
      "bill_amt4   0.860272   0.892482   0.923969   1.000000   0.940134   0.900941\n",
      "bill_amt5   0.829779   0.859778   0.883910   0.940134   1.000000   0.946197\n",
      "bill_amt6   0.802650   0.831594   0.853320   0.900941   0.946197   1.000000\n"
     ]
    },
    {
     "data": {
      "image/png": "[encoded data removed]",
      "text/plain": [
       "<Figure size 720x576 with 2 Axes>"
      ]
     },
     "metadata": {
      "needs_background": "light"
     },
     "output_type": "display_data"
    }
   ],
   "source": [
    "corr_bill_amt = df[['bill_amt1', 'bill_amt2','bill_amt3', 'bill_amt4', 'bill_amt5', 'bill_amt6']].corr()\n",
    "print(corr_bill_amt)\n",
    "plt.figure(figsize=(10,8))\n",
    "sns.heatmap(corr_bill_amt,annot=True)\n",
    "plt.title('CORELATION BETWEEN BILL AMOUNT')\n",
    "plt.show()"
   ]
  },
  {
   "cell_type": "markdown",
   "metadata": {},
   "source": [
    "**6. Checking correlation between Pay_Amt**"
   ]
  },
  {
   "cell_type": "code",
   "execution_count": 23,
   "metadata": {},
   "outputs": [
    {
     "name": "stdout",
     "output_type": "stream",
     "text": [
      "          pay_amt1  pay_amt2  pay_amt3  pay_amt4  pay_amt5  pay_amt6\n",
      "pay_amt1  1.000000  0.285576  0.252191  0.199558  0.148459  0.185735\n",
      "pay_amt2  0.285576  1.000000  0.244770  0.180107  0.180908  0.157634\n",
      "pay_amt3  0.252191  0.244770  1.000000  0.216325  0.159214  0.162740\n",
      "pay_amt4  0.199558  0.180107  0.216325  1.000000  0.151830  0.157834\n",
      "pay_amt5  0.148459  0.180908  0.159214  0.151830  1.000000  0.154896\n",
      "pay_amt6  0.185735  0.157634  0.162740  0.157834  0.154896  1.000000\n"
     ]
    },
    {
     "data": {
      "image/png": "[encoded data removed]",
      "text/plain": [
       "<Figure size 720x576 with 2 Axes>"
      ]
     },
     "metadata": {
      "needs_background": "light"
     },
     "output_type": "display_data"
    }
   ],
   "source": [
    "corr_pay_amt = df[['pay_amt1','pay_amt2', 'pay_amt3', 'pay_amt4', 'pay_amt5', 'pay_amt6']].corr()\n",
    "print(corr_pay_amt)\n",
    "\n",
    "plt.figure(figsize=(10,8))\n",
    "sns.heatmap(corr_pay_amt,annot=True)\n",
    "plt.title('CORELATION BETWEEN PAY AMOUNT')\n",
    "plt.show()"
   ]
  },
  {
   "cell_type": "markdown",
   "metadata": {},
   "source": [
    "**7. Checking correlation between Pay (Repayment Status)**"
   ]
  },
  {
   "cell_type": "code",
   "execution_count": 24,
   "metadata": {},
   "outputs": [
    {
     "name": "stdout",
     "output_type": "stream",
     "text": [
      "          pay_1     pay_2     pay_3     pay_4     pay_5     pay_6\n",
      "pay_1  1.000000  0.672164  0.574245  0.538841  0.509426  0.474553\n",
      "pay_2  0.672164  1.000000  0.766552  0.662067  0.622780  0.575501\n",
      "pay_3  0.574245  0.766552  1.000000  0.777359  0.686775  0.632684\n",
      "pay_4  0.538841  0.662067  0.777359  1.000000  0.819835  0.716449\n",
      "pay_5  0.509426  0.622780  0.686775  0.819835  1.000000  0.816900\n",
      "pay_6  0.474553  0.575501  0.632684  0.716449  0.816900  1.000000\n"
     ]
    },
    {
     "data": {
      "image/png": "[encoded data removed]",
      "text/plain": [
       "<Figure size 720x576 with 2 Axes>"
      ]
     },
     "metadata": {
      "needs_background": "light"
     },
     "output_type": "display_data"
    }
   ],
   "source": [
    "corr_bill_amt = df[['pay_1','pay_2', 'pay_3', 'pay_4', 'pay_5', 'pay_6']].corr()\n",
    "print(corr_bill_amt)\n",
    "\n",
    "plt.figure(figsize=(10,8))\n",
    "sns.heatmap(corr_bill_amt,annot=True)\n",
    "plt.title('CORELATION BETWEEN REPAYMENT STATUS')\n",
    "plt.show()"
   ]
  },
  {
   "cell_type": "code",
   "execution_count": 35,
   "metadata": {},
   "outputs": [],
   "source": [
    "# apply get dummies on sex, marriage and education columns\n",
    "\n",
    "df = pd.get_dummies(df,columns=['sex',\"marriage\",\"education\"],drop_first=True)"
   ]
  },
  {
   "cell_type": "code",
   "execution_count": 36,
   "metadata": {},
   "outputs": [],
   "source": [
    "np.random.seed(42)"
   ]
  },
  {
   "cell_type": "code",
   "execution_count": 37,
   "metadata": {},
   "outputs": [],
   "source": [
    "X = df.drop('default',axis=1)\n",
    "y = df.default\n",
    "X_train,X_test,y_train,y_test=train_test_split(X,y,test_size=0.3,random_state=42,stratify=y)"
   ]
  },
  {
   "cell_type": "code",
   "execution_count": 40,
   "metadata": {},
   "outputs": [],
   "source": [
    "sc = StandardScaler()\n",
    "X_train_scaled = sc.fit_transform(X_train)\n",
    "X_test_scaled = sc.transform(X_test)"
   ]
  },
  {
   "cell_type": "markdown",
   "metadata": {},
   "source": [
    "# Base Models"
   ]
  },
  {
   "cell_type": "markdown",
   "metadata": {},
   "source": [
    "As we know it is a classification problem to predict target which is of binary class. So, we can use following models:\n",
    "1. Logistic Regression\n",
    "2. KNN\n",
    "3. Naive Bayes\n",
    "4. Decision Tree"
   ]
  },
  {
   "cell_type": "code",
   "execution_count": 29,
   "metadata": {},
   "outputs": [],
   "source": [
    "# Keeping all models in one list\n",
    "\n",
    "models=[]\n",
    "models.append(('Logistic Regression',LogisticRegression(random_state=42)))\n",
    "models.append(('KNN',KNeighborsClassifier()))\n",
    "models.append(('Naive Bayes',GaussianNB()))\n",
    "models.append(('Decision Tree',DecisionTreeClassifier(random_state=42)))"
   ]
  },
  {
   "cell_type": "code",
   "execution_count": 33,
   "metadata": {},
   "outputs": [
    {
     "name": "stdout",
     "output_type": "stream",
     "text": [
      "Logistic Regression\n",
      "KNN\n",
      "Naive Bayes\n",
      "Decision Tree\n"
     ]
    }
   ],
   "source": [
    "for i,j in models:\n",
    "    print(i)"
   ]
  },
  {
   "cell_type": "code",
   "execution_count": 23,
   "metadata": {},
   "outputs": [],
   "source": [
    "# Evaluating Each model\n",
    "\n",
    "from sklearn.model_selection import KFold\n",
    "from sklearn.model_selection import cross_val_score\n",
    "names=[]\n",
    "predictions=[]\n",
    "score = []\n",
    "bias_error = []\n",
    "var_error = []\n",
    "for name,model in models:\n",
    "    fold=KFold(shuffle=True,n_splits=5,random_state=1)\n",
    "    if name == 'Logistic Regression'or name == 'KNN' or name == 'Naive Bayes':\n",
    "        result=cross_val_score(model,X_train_scaled,y_train,cv=fold,scoring='roc_auc')\n",
    "    else:\n",
    "        result=cross_val_score(model,X_train,y_train,cv=fold,scoring='roc_auc')\n",
    "    predictions.append(result)\n",
    "    names.append(name)\n",
    "    score.append(result.mean())\n",
    "    bias_error.append(1-result.mean())\n",
    "    var_error.append(np.std(result,ddof=1)**2)"
   ]
  },
  {
   "cell_type": "code",
   "execution_count": 24,
   "metadata": {},
   "outputs": [
    {
     "data": {
      "text/html": [
       "<div>\n",
       "<style scoped>\n",
       "    .dataframe tbody tr th:only-of-type {\n",
       "        vertical-align: middle;\n",
       "    }\n",
       "\n",
       "    .dataframe tbody tr th {\n",
       "        vertical-align: top;\n",
       "    }\n",
       "\n",
       "    .dataframe thead th {\n",
       "        text-align: right;\n",
       "    }\n",
       "</style>\n",
       "<table border=\"1\" class=\"dataframe\">\n",
       "  <thead>\n",
       "    <tr style=\"text-align: right;\">\n",
       "      <th></th>\n",
       "      <th>AUC Score</th>\n",
       "      <th>Bias Error</th>\n",
       "      <th>Variance Error</th>\n",
       "    </tr>\n",
       "  </thead>\n",
       "  <tbody>\n",
       "    <tr>\n",
       "      <th>Logistic Regression</th>\n",
       "      <td>0.726386</td>\n",
       "      <td>0.273614</td>\n",
       "      <td>0.000050</td>\n",
       "    </tr>\n",
       "    <tr>\n",
       "      <th>KNN</th>\n",
       "      <td>0.700813</td>\n",
       "      <td>0.299187</td>\n",
       "      <td>0.000057</td>\n",
       "    </tr>\n",
       "    <tr>\n",
       "      <th>Naive Bayes</th>\n",
       "      <td>0.733939</td>\n",
       "      <td>0.266061</td>\n",
       "      <td>0.000093</td>\n",
       "    </tr>\n",
       "    <tr>\n",
       "      <th>Decision Tree</th>\n",
       "      <td>0.608352</td>\n",
       "      <td>0.391648</td>\n",
       "      <td>0.000079</td>\n",
       "    </tr>\n",
       "  </tbody>\n",
       "</table>\n",
       "</div>"
      ],
      "text/plain": [
       "                     AUC Score  Bias Error  Variance Error\n",
       "Logistic Regression   0.726386    0.273614        0.000050\n",
       "KNN                   0.700813    0.299187        0.000057\n",
       "Naive Bayes           0.733939    0.266061        0.000093\n",
       "Decision Tree         0.608352    0.391648        0.000079"
      ]
     },
     "execution_count": 24,
     "metadata": {},
     "output_type": "execute_result"
    }
   ],
   "source": [
    "acc_df = pd.DataFrame({'AUC Score':score,'Bias Error':bias_error,'Variance Error':var_error},index=names)\n",
    "\n",
    "acc_df"
   ]
  },
  {
   "cell_type": "markdown",
   "metadata": {},
   "source": [
    "# Ensemble Techniques"
   ]
  },
  {
   "cell_type": "markdown",
   "metadata": {},
   "source": [
    "After checking the score on base models. Now try some more complex models on which there is less effect of multicollinearity on them:-\n",
    "1. Random Forest Classifier\n",
    "2. Gradient Boost Classifier\n",
    "3. Ada Boost Classifier\n",
    "4. Bagging Classifier"
   ]
  },
  {
   "cell_type": "code",
   "execution_count": 26,
   "metadata": {},
   "outputs": [],
   "source": [
    "models=[]\n",
    "\n",
    "models.append(('Random Forest',RandomForestClassifier(random_state=42)))\n",
    "models.append(('Gradient Boost',GradientBoostingClassifier(random_state=42)))\n",
    "models.append(('Ada Boost',AdaBoostClassifier(random_state=42)))\n",
    "models.append(('Bagging Classifier',BaggingClassifier(random_state=42)))"
   ]
  },
  {
   "cell_type": "code",
   "execution_count": 27,
   "metadata": {},
   "outputs": [],
   "source": [
    "# Evaluating Each model\n",
    "\n",
    "from sklearn.model_selection import KFold\n",
    "from sklearn.model_selection import cross_val_score\n",
    "names=[]\n",
    "predictions=[]\n",
    "score = []\n",
    "bias_error = []\n",
    "var_error = []\n",
    "for name,model in models:\n",
    "    fold=KFold(shuffle=True,n_splits=5,random_state=1)\n",
    "    if name == 'Gradient Boost':\n",
    "        result=cross_val_score(model,X_train_scaled,y_train,cv=fold,scoring='roc_auc')\n",
    "    else:\n",
    "        result=cross_val_score(model,X_train,y_train,cv=fold,scoring='roc_auc')\n",
    "    predictions.append(result)\n",
    "    names.append(name)\n",
    "    score.append(result.mean())\n",
    "    bias_error.append(1-result.mean())\n",
    "    var_error.append(np.std(result,ddof=1)**2)"
   ]
  },
  {
   "cell_type": "code",
   "execution_count": 28,
   "metadata": {},
   "outputs": [
    {
     "data": {
      "text/html": [
       "<div>\n",
       "<style scoped>\n",
       "    .dataframe tbody tr th:only-of-type {\n",
       "        vertical-align: middle;\n",
       "    }\n",
       "\n",
       "    .dataframe tbody tr th {\n",
       "        vertical-align: top;\n",
       "    }\n",
       "\n",
       "    .dataframe thead th {\n",
       "        text-align: right;\n",
       "    }\n",
       "</style>\n",
       "<table border=\"1\" class=\"dataframe\">\n",
       "  <thead>\n",
       "    <tr style=\"text-align: right;\">\n",
       "      <th></th>\n",
       "      <th>AUC Score</th>\n",
       "      <th>Bias Error</th>\n",
       "      <th>Variance Error</th>\n",
       "    </tr>\n",
       "  </thead>\n",
       "  <tbody>\n",
       "    <tr>\n",
       "      <th>Random Forest</th>\n",
       "      <td>0.766185</td>\n",
       "      <td>0.233815</td>\n",
       "      <td>0.000134</td>\n",
       "    </tr>\n",
       "    <tr>\n",
       "      <th>Gradient Boost</th>\n",
       "      <td>0.781375</td>\n",
       "      <td>0.218625</td>\n",
       "      <td>0.000112</td>\n",
       "    </tr>\n",
       "    <tr>\n",
       "      <th>Ada Boost</th>\n",
       "      <td>0.772375</td>\n",
       "      <td>0.227625</td>\n",
       "      <td>0.000083</td>\n",
       "    </tr>\n",
       "    <tr>\n",
       "      <th>Bagging Classifier</th>\n",
       "      <td>0.731135</td>\n",
       "      <td>0.268865</td>\n",
       "      <td>0.000018</td>\n",
       "    </tr>\n",
       "  </tbody>\n",
       "</table>\n",
       "</div>"
      ],
      "text/plain": [
       "                    AUC Score  Bias Error  Variance Error\n",
       "Random Forest        0.766185    0.233815        0.000134\n",
       "Gradient Boost       0.781375    0.218625        0.000112\n",
       "Ada Boost            0.772375    0.227625        0.000083\n",
       "Bagging Classifier   0.731135    0.268865        0.000018"
      ]
     },
     "execution_count": 28,
     "metadata": {},
     "output_type": "execute_result"
    }
   ],
   "source": [
    "acc_df = pd.DataFrame({'AUC Score':score,'Bias Error':bias_error,'Variance Error':var_error},index=names)\n",
    "\n",
    "acc_df"
   ]
  },
  {
   "cell_type": "markdown",
   "metadata": {},
   "source": [
    "By comparing base models and the ensemble ones, we can see that gradient boost is out performing the others\n",
    "But we will select Logistic Regression, Random Forest, Gradient Boost, Ada Boost for further Hypertuning."
   ]
  },
  {
   "cell_type": "markdown",
   "metadata": {},
   "source": [
    "# Hyperparameter Tuning"
   ]
  },
  {
   "cell_type": "markdown",
   "metadata": {},
   "source": [
    "# Logistic Regression"
   ]
  },
  {
   "cell_type": "code",
   "execution_count": 65,
   "metadata": {},
   "outputs": [],
   "source": [
    "fold=KFold(shuffle=True,n_splits=5,random_state=42)"
   ]
  },
  {
   "cell_type": "code",
   "execution_count": 58,
   "metadata": {},
   "outputs": [],
   "source": [
    "lr = LogisticRegression(random_state=42,solver='liblinear',class_weight='balanced')\n",
    "\n",
    "lr_params = {'penalty':['l1','l2'],'C':[1.0,0.1,0.01,0.001,0.0001]}"
   ]
  },
  {
   "cell_type": "code",
   "execution_count": 59,
   "metadata": {},
   "outputs": [
    {
     "data": {
      "text/plain": [
       "GridSearchCV(cv=KFold(n_splits=5, random_state=1, shuffle=True),\n",
       "             error_score=nan,\n",
       "             estimator=LogisticRegression(C=1.0, class_weight='balanced',\n",
       "                                          dual=False, fit_intercept=True,\n",
       "                                          intercept_scaling=1, l1_ratio=None,\n",
       "                                          max_iter=100, multi_class='auto',\n",
       "                                          n_jobs=None, penalty='l2',\n",
       "                                          random_state=42, solver='liblinear',\n",
       "                                          tol=0.0001, verbose=0,\n",
       "                                          warm_start=False),\n",
       "             iid='deprecated', n_jobs=None,\n",
       "             param_grid={'C': [1.0, 0.1, 0.01, 0.001, 0.0001],\n",
       "                         'penalty': ['l1', 'l2']},\n",
       "             pre_dispatch='2*n_jobs', refit=True, return_train_score=False,\n",
       "             scoring='roc_auc', verbose=0)"
      ]
     },
     "execution_count": 59,
     "metadata": {},
     "output_type": "execute_result"
    }
   ],
   "source": [
    "gs_lr = GridSearchCV(lr,lr_params,cv=fold,scoring='roc_auc')\n",
    "\n",
    "gs_lr.fit(X_train_scaled,y_train)"
   ]
  },
  {
   "cell_type": "code",
   "execution_count": 60,
   "metadata": {},
   "outputs": [
    {
     "name": "stdout",
     "output_type": "stream",
     "text": [
      "AUC Score: 0.7268110151664051\n",
      "Best Parameters: {'C': 0.1, 'penalty': 'l1'}\n"
     ]
    }
   ],
   "source": [
    "print('AUC Score:',gs_lr.best_score_)\n",
    "print('Best Parameters:',gs_lr.best_params_)"
   ]
  },
  {
   "cell_type": "markdown",
   "metadata": {},
   "source": [
    "# Random Forest"
   ]
  },
  {
   "cell_type": "code",
   "execution_count": 62,
   "metadata": {},
   "outputs": [],
   "source": [
    "rf = RandomForestClassifier(random_state=42,class_weight='balanced')\n",
    "\n",
    "rf_params = {'n_estimators': sp_randint(30,150),\n",
    "    'max_depth': sp_randint(2,10),\n",
    "    'min_samples_leaf': sp_randint(1,20),\n",
    "    'min_samples_split': sp_randint(2,20),\n",
    "    'max_features': sp_randint(2,24),\n",
    "    'criterion': ['gini','entropy']}"
   ]
  },
  {
   "cell_type": "code",
   "execution_count": 63,
   "metadata": {},
   "outputs": [
    {
     "data": {
      "text/plain": [
       "RandomizedSearchCV(cv=KFold(n_splits=5, random_state=42, shuffle=True),\n",
       "                   error_score=nan,\n",
       "                   estimator=RandomForestClassifier(bootstrap=True,\n",
       "                                                    ccp_alpha=0.0,\n",
       "                                                    class_weight='balanced',\n",
       "                                                    criterion='gini',\n",
       "                                                    max_depth=None,\n",
       "                                                    max_features='auto',\n",
       "                                                    max_leaf_nodes=None,\n",
       "                                                    max_samples=None,\n",
       "                                                    min_impurity_decrease=0.0,\n",
       "                                                    min_impurity_split=None,\n",
       "                                                    min_samples_leaf=1,\n",
       "                                                    min_samples_split=2,\n",
       "                                                    m...\n",
       "                                        'min_samples_leaf': <scipy.stats._distn_infrastructure.rv_frozen object at 0x000001ED5D1A5908>,\n",
       "                                        'min_samples_split': <scipy.stats._distn_infrastructure.rv_frozen object at 0x000001ED5D190848>,\n",
       "                                        'n_estimators': <scipy.stats._distn_infrastructure.rv_frozen object at 0x000001ED5D1A5108>},\n",
       "                   pre_dispatch='2*n_jobs', random_state=42, refit=True,\n",
       "                   return_train_score=False, scoring='roc_auc', verbose=0)"
      ]
     },
     "execution_count": 63,
     "metadata": {},
     "output_type": "execute_result"
    }
   ],
   "source": [
    "rs_rf = RandomizedSearchCV(rf, rf_params, cv=fold, random_state=42,scoring='roc_auc')\n",
    "\n",
    "rs_rf.fit(X_train,y_train)"
   ]
  },
  {
   "cell_type": "code",
   "execution_count": 64,
   "metadata": {},
   "outputs": [
    {
     "name": "stdout",
     "output_type": "stream",
     "text": [
      "AUC Score: 0.7797443772866114\n",
      "Best Parameters: {'criterion': 'entropy', 'max_depth': 7, 'max_features': 13, 'min_samples_leaf': 17, 'min_samples_split': 11, 'n_estimators': 121}\n"
     ]
    }
   ],
   "source": [
    "print('AUC Score:',rs_rf.best_score_)\n",
    "print('Best Parameters:',rs_rf.best_params_)"
   ]
  },
  {
   "cell_type": "markdown",
   "metadata": {},
   "source": [
    "# Gradient Boost Classifier"
   ]
  },
  {
   "cell_type": "code",
   "execution_count": 66,
   "metadata": {},
   "outputs": [],
   "source": [
    "gb = GradientBoostingClassifier(random_state=42)\n",
    "gb_param = {'n_estimators':np.arange(50,150)}"
   ]
  },
  {
   "cell_type": "code",
   "execution_count": 68,
   "metadata": {},
   "outputs": [
    {
     "data": {
      "text/plain": [
       "GridSearchCV(cv=KFold(n_splits=5, random_state=42, shuffle=True),\n",
       "             error_score=nan,\n",
       "             estimator=GradientBoostingClassifier(ccp_alpha=0.0,\n",
       "                                                  criterion='friedman_mse',\n",
       "                                                  init=None, learning_rate=0.1,\n",
       "                                                  loss='deviance', max_depth=3,\n",
       "                                                  max_features=None,\n",
       "                                                  max_leaf_nodes=None,\n",
       "                                                  min_impurity_decrease=0.0,\n",
       "                                                  min_impurity_split=None,\n",
       "                                                  min_samples_leaf=1,\n",
       "                                                  min_samples_split=2,\n",
       "                                                  min_weight_f...\n",
       "        76,  77,  78,  79,  80,  81,  82,  83,  84,  85,  86,  87,  88,\n",
       "        89,  90,  91,  92,  93,  94,  95,  96,  97,  98,  99, 100, 101,\n",
       "       102, 103, 104, 105, 106, 107, 108, 109, 110, 111, 112, 113, 114,\n",
       "       115, 116, 117, 118, 119, 120, 121, 122, 123, 124, 125, 126, 127,\n",
       "       128, 129, 130, 131, 132, 133, 134, 135, 136, 137, 138, 139, 140,\n",
       "       141, 142, 143, 144, 145, 146, 147, 148, 149])},\n",
       "             pre_dispatch='2*n_jobs', refit=True, return_train_score=False,\n",
       "             scoring='roc_auc', verbose=0)"
      ]
     },
     "execution_count": 68,
     "metadata": {},
     "output_type": "execute_result"
    }
   ],
   "source": [
    "gs_gb = GridSearchCV(gb,gb_param,cv=fold,scoring='roc_auc')\n",
    "gs_gb.fit(X_train_scaled,y_train)"
   ]
  },
  {
   "cell_type": "code",
   "execution_count": 69,
   "metadata": {},
   "outputs": [
    {
     "name": "stdout",
     "output_type": "stream",
     "text": [
      "AUC Score: 0.7818267048309879\n",
      "Best Parameters: {'n_estimators': 90}\n"
     ]
    }
   ],
   "source": [
    "print('AUC Score:',gs_gb.best_score_)\n",
    "print('Best Parameters:',gs_gb.best_params_)"
   ]
  },
  {
   "cell_type": "markdown",
   "metadata": {},
   "source": [
    "# Ada Boost Classifier"
   ]
  },
  {
   "cell_type": "code",
   "execution_count": 70,
   "metadata": {},
   "outputs": [],
   "source": [
    "boost = AdaBoostClassifier(random_state=42)\n",
    "boost_param = {'n_estimators':np.arange(10,100)}"
   ]
  },
  {
   "cell_type": "code",
   "execution_count": 71,
   "metadata": {},
   "outputs": [
    {
     "data": {
      "text/plain": [
       "GridSearchCV(cv=KFold(n_splits=5, random_state=42, shuffle=True),\n",
       "             error_score=nan,\n",
       "             estimator=AdaBoostClassifier(algorithm='SAMME.R',\n",
       "                                          base_estimator=None,\n",
       "                                          learning_rate=1.0, n_estimators=50,\n",
       "                                          random_state=42),\n",
       "             iid='deprecated', n_jobs=None,\n",
       "             param_grid={'n_estimators': array([10, 11, 12, 13, 14, 15, 16, 17, 18, 19, 20, 21, 22, 23, 24, 25, 26,\n",
       "       27, 28, 29, 30, 31, 32, 33, 34, 35, 36, 37, 38, 39, 40, 41, 42, 43,\n",
       "       44, 45, 46, 47, 48, 49, 50, 51, 52, 53, 54, 55, 56, 57, 58, 59, 60,\n",
       "       61, 62, 63, 64, 65, 66, 67, 68, 69, 70, 71, 72, 73, 74, 75, 76, 77,\n",
       "       78, 79, 80, 81, 82, 83, 84, 85, 86, 87, 88, 89, 90, 91, 92, 93, 94,\n",
       "       95, 96, 97, 98, 99])},\n",
       "             pre_dispatch='2*n_jobs', refit=True, return_train_score=False,\n",
       "             scoring='roc_auc', verbose=0)"
      ]
     },
     "execution_count": 71,
     "metadata": {},
     "output_type": "execute_result"
    }
   ],
   "source": [
    "gs_boost = GridSearchCV(boost,boost_param,cv=fold, scoring='roc_auc')\n",
    "gs_boost.fit(X_train,y_train)"
   ]
  },
  {
   "cell_type": "code",
   "execution_count": 72,
   "metadata": {},
   "outputs": [
    {
     "name": "stdout",
     "output_type": "stream",
     "text": [
      "AUC Score: 0.7744990341421879\n",
      "Best Parameters: {'n_estimators': 43}\n"
     ]
    }
   ],
   "source": [
    "print('AUC Score:',gs_boost.best_score_)\n",
    "print('Best Parameters:',gs_boost.best_params_)"
   ]
  },
  {
   "cell_type": "markdown",
   "metadata": {},
   "source": [
    "# Comparing Results After Hyperparameter Tuning"
   ]
  },
  {
   "cell_type": "code",
   "execution_count": 30,
   "metadata": {},
   "outputs": [],
   "source": [
    "models=[]\n",
    "models.append(('Logistic Regression',LogisticRegression(C=1.0,penalty='l1',class_weight='balanced',\n",
    "                                                       solver='liblinear',random_state=42)))\n",
    "\n",
    "models.append(('Random Forest',RandomForestClassifier(criterion='entropy', max_depth= 7,max_features=13, min_samples_leaf= 17,\n",
    "                                                      min_samples_split=11, n_estimators=121, random_state=42,\n",
    "                                                      class_weight='balanced')))\n",
    "\n",
    "models.append(('Gradient Boost',GradientBoostingClassifier(n_estimators=90,random_state=42)))\n",
    "\n",
    "models.append(('Ada Boost',AdaBoostClassifier(n_estimators=43,random_state=42)))"
   ]
  },
  {
   "cell_type": "code",
   "execution_count": 31,
   "metadata": {},
   "outputs": [],
   "source": [
    "# Evaluating Each model\n",
    "\n",
    "names=[]\n",
    "predictions=[]\n",
    "score = []\n",
    "bias_error = []\n",
    "var_error = []\n",
    "for name,model in models:\n",
    "    fold=KFold(shuffle=True,n_splits=5,random_state=1)\n",
    "    if name == 'Gradient Boost' or 'Logistic Regression':\n",
    "        result=cross_val_score(model,X_train_scaled,y_train,cv=fold,scoring='roc_auc')\n",
    "    else:\n",
    "        result=cross_val_score(model,X_train,y_train,cv=fold,scoring='roc_auc')\n",
    "    predictions.append(result)\n",
    "    names.append(name)\n",
    "    score.append(result.mean())\n",
    "    bias_error.append(1-result.mean())\n",
    "    var_error.append(np.std(result,ddof=1)**2)"
   ]
  },
  {
   "cell_type": "code",
   "execution_count": 32,
   "metadata": {},
   "outputs": [
    {
     "data": {
      "text/html": [
       "<div>\n",
       "<style scoped>\n",
       "    .dataframe tbody tr th:only-of-type {\n",
       "        vertical-align: middle;\n",
       "    }\n",
       "\n",
       "    .dataframe tbody tr th {\n",
       "        vertical-align: top;\n",
       "    }\n",
       "\n",
       "    .dataframe thead th {\n",
       "        text-align: right;\n",
       "    }\n",
       "</style>\n",
       "<table border=\"1\" class=\"dataframe\">\n",
       "  <thead>\n",
       "    <tr style=\"text-align: right;\">\n",
       "      <th></th>\n",
       "      <th>AUC Score</th>\n",
       "      <th>Bias Error</th>\n",
       "      <th>Variance Error</th>\n",
       "    </tr>\n",
       "  </thead>\n",
       "  <tbody>\n",
       "    <tr>\n",
       "      <th>Logistic Regression</th>\n",
       "      <td>0.726796</td>\n",
       "      <td>0.273204</td>\n",
       "      <td>0.000051</td>\n",
       "    </tr>\n",
       "    <tr>\n",
       "      <th>Random Forest</th>\n",
       "      <td>0.779453</td>\n",
       "      <td>0.220547</td>\n",
       "      <td>0.000129</td>\n",
       "    </tr>\n",
       "    <tr>\n",
       "      <th>Gradient Boost</th>\n",
       "      <td>0.781135</td>\n",
       "      <td>0.218865</td>\n",
       "      <td>0.000118</td>\n",
       "    </tr>\n",
       "    <tr>\n",
       "      <th>Ada Boost</th>\n",
       "      <td>0.771858</td>\n",
       "      <td>0.228142</td>\n",
       "      <td>0.000081</td>\n",
       "    </tr>\n",
       "  </tbody>\n",
       "</table>\n",
       "</div>"
      ],
      "text/plain": [
       "                     AUC Score  Bias Error  Variance Error\n",
       "Logistic Regression   0.726796    0.273204        0.000051\n",
       "Random Forest         0.779453    0.220547        0.000129\n",
       "Gradient Boost        0.781135    0.218865        0.000118\n",
       "Ada Boost             0.771858    0.228142        0.000081"
      ]
     },
     "execution_count": 32,
     "metadata": {},
     "output_type": "execute_result"
    }
   ],
   "source": [
    "acc_df = pd.DataFrame({'AUC Score':score,'Bias Error':bias_error,'Variance Error':var_error},index=names)\n",
    "\n",
    "acc_df"
   ]
  },
  {
   "cell_type": "markdown",
   "metadata": {},
   "source": [
    "As we can see that our AUC Score is not increasing even after hypertuning. So we analysed our data what exactly is the reason behind it. And we found out that there are some anomalies in our data set such as if your repayment status is negative which means you are either not using your credit card or you are duly paying your minimum amount for that month.\n",
    "So in this case that is not considered as defaulter. But in our dataset there are some customers which are mentioned as defaulters even though they are fulfilling the above criteria. So we have decided to drop such rows and check whether our model auc score improves or not."
   ]
  },
  {
   "cell_type": "code",
   "execution_count": 43,
   "metadata": {},
   "outputs": [
    {
     "data": {
      "text/plain": [
       "(30000, 27)"
      ]
     },
     "execution_count": 43,
     "metadata": {},
     "output_type": "execute_result"
    }
   ],
   "source": [
    "# Checking the shape of old dataframe\n",
    "df.shape"
   ]
  },
  {
   "cell_type": "code",
   "execution_count": 44,
   "metadata": {},
   "outputs": [],
   "source": [
    "df2 = df.copy()"
   ]
  },
  {
   "cell_type": "code",
   "execution_count": 45,
   "metadata": {},
   "outputs": [],
   "source": [
    "# dropping irrelevant rows on the basis of reason mentioned above.\n",
    "\n",
    "df2.drop(df2[(df2['pay_1']<0) & (df2['default']==1)].index,axis=0,inplace=True)"
   ]
  },
  {
   "cell_type": "code",
   "execution_count": 46,
   "metadata": {},
   "outputs": [
    {
     "data": {
      "text/html": [
       "<div>\n",
       "<style scoped>\n",
       "    .dataframe tbody tr th:only-of-type {\n",
       "        vertical-align: middle;\n",
       "    }\n",
       "\n",
       "    .dataframe tbody tr th {\n",
       "        vertical-align: top;\n",
       "    }\n",
       "\n",
       "    .dataframe thead th {\n",
       "        text-align: right;\n",
       "    }\n",
       "</style>\n",
       "<table border=\"1\" class=\"dataframe\">\n",
       "  <thead>\n",
       "    <tr style=\"text-align: right;\">\n",
       "      <th></th>\n",
       "      <th>limit_bal</th>\n",
       "      <th>age</th>\n",
       "      <th>pay_1</th>\n",
       "      <th>pay_2</th>\n",
       "      <th>pay_3</th>\n",
       "      <th>pay_4</th>\n",
       "      <th>pay_5</th>\n",
       "      <th>pay_6</th>\n",
       "      <th>bill_amt1</th>\n",
       "      <th>bill_amt2</th>\n",
       "      <th>...</th>\n",
       "      <th>pay_amt4</th>\n",
       "      <th>pay_amt5</th>\n",
       "      <th>pay_amt6</th>\n",
       "      <th>default</th>\n",
       "      <th>sex_male</th>\n",
       "      <th>marriage_others</th>\n",
       "      <th>marriage_single</th>\n",
       "      <th>education_high_school</th>\n",
       "      <th>education_others</th>\n",
       "      <th>education_university</th>\n",
       "    </tr>\n",
       "  </thead>\n",
       "  <tbody>\n",
       "    <tr>\n",
       "      <td>0</td>\n",
       "      <td>20000</td>\n",
       "      <td>24</td>\n",
       "      <td>2</td>\n",
       "      <td>2</td>\n",
       "      <td>-1</td>\n",
       "      <td>-1</td>\n",
       "      <td>-2</td>\n",
       "      <td>-2</td>\n",
       "      <td>3913</td>\n",
       "      <td>3102</td>\n",
       "      <td>...</td>\n",
       "      <td>0</td>\n",
       "      <td>0</td>\n",
       "      <td>0</td>\n",
       "      <td>1</td>\n",
       "      <td>0</td>\n",
       "      <td>0</td>\n",
       "      <td>0</td>\n",
       "      <td>0</td>\n",
       "      <td>0</td>\n",
       "      <td>1</td>\n",
       "    </tr>\n",
       "    <tr>\n",
       "      <td>2</td>\n",
       "      <td>90000</td>\n",
       "      <td>34</td>\n",
       "      <td>0</td>\n",
       "      <td>0</td>\n",
       "      <td>0</td>\n",
       "      <td>0</td>\n",
       "      <td>0</td>\n",
       "      <td>0</td>\n",
       "      <td>29239</td>\n",
       "      <td>14027</td>\n",
       "      <td>...</td>\n",
       "      <td>1000</td>\n",
       "      <td>1000</td>\n",
       "      <td>5000</td>\n",
       "      <td>0</td>\n",
       "      <td>0</td>\n",
       "      <td>0</td>\n",
       "      <td>1</td>\n",
       "      <td>0</td>\n",
       "      <td>0</td>\n",
       "      <td>1</td>\n",
       "    </tr>\n",
       "    <tr>\n",
       "      <td>3</td>\n",
       "      <td>50000</td>\n",
       "      <td>37</td>\n",
       "      <td>0</td>\n",
       "      <td>0</td>\n",
       "      <td>0</td>\n",
       "      <td>0</td>\n",
       "      <td>0</td>\n",
       "      <td>0</td>\n",
       "      <td>46990</td>\n",
       "      <td>48233</td>\n",
       "      <td>...</td>\n",
       "      <td>1100</td>\n",
       "      <td>1069</td>\n",
       "      <td>1000</td>\n",
       "      <td>0</td>\n",
       "      <td>0</td>\n",
       "      <td>0</td>\n",
       "      <td>0</td>\n",
       "      <td>0</td>\n",
       "      <td>0</td>\n",
       "      <td>1</td>\n",
       "    </tr>\n",
       "    <tr>\n",
       "      <td>4</td>\n",
       "      <td>50000</td>\n",
       "      <td>57</td>\n",
       "      <td>-1</td>\n",
       "      <td>0</td>\n",
       "      <td>-1</td>\n",
       "      <td>0</td>\n",
       "      <td>0</td>\n",
       "      <td>0</td>\n",
       "      <td>8617</td>\n",
       "      <td>5670</td>\n",
       "      <td>...</td>\n",
       "      <td>9000</td>\n",
       "      <td>689</td>\n",
       "      <td>679</td>\n",
       "      <td>0</td>\n",
       "      <td>1</td>\n",
       "      <td>0</td>\n",
       "      <td>0</td>\n",
       "      <td>0</td>\n",
       "      <td>0</td>\n",
       "      <td>1</td>\n",
       "    </tr>\n",
       "    <tr>\n",
       "      <td>5</td>\n",
       "      <td>50000</td>\n",
       "      <td>37</td>\n",
       "      <td>0</td>\n",
       "      <td>0</td>\n",
       "      <td>0</td>\n",
       "      <td>0</td>\n",
       "      <td>0</td>\n",
       "      <td>0</td>\n",
       "      <td>64400</td>\n",
       "      <td>57069</td>\n",
       "      <td>...</td>\n",
       "      <td>1000</td>\n",
       "      <td>1000</td>\n",
       "      <td>800</td>\n",
       "      <td>0</td>\n",
       "      <td>1</td>\n",
       "      <td>0</td>\n",
       "      <td>1</td>\n",
       "      <td>0</td>\n",
       "      <td>0</td>\n",
       "      <td>0</td>\n",
       "    </tr>\n",
       "  </tbody>\n",
       "</table>\n",
       "<p>5 rows × 27 columns</p>\n",
       "</div>"
      ],
      "text/plain": [
       "   limit_bal  age  pay_1  pay_2  pay_3  pay_4  pay_5  pay_6  bill_amt1  \\\n",
       "0      20000   24      2      2     -1     -1     -2     -2       3913   \n",
       "2      90000   34      0      0      0      0      0      0      29239   \n",
       "3      50000   37      0      0      0      0      0      0      46990   \n",
       "4      50000   57     -1      0     -1      0      0      0       8617   \n",
       "5      50000   37      0      0      0      0      0      0      64400   \n",
       "\n",
       "   bill_amt2  ...  pay_amt4  pay_amt5  pay_amt6  default  sex_male  \\\n",
       "0       3102  ...         0         0         0        1         0   \n",
       "2      14027  ...      1000      1000      5000        0         0   \n",
       "3      48233  ...      1100      1069      1000        0         0   \n",
       "4       5670  ...      9000       689       679        0         1   \n",
       "5      57069  ...      1000      1000       800        0         1   \n",
       "\n",
       "   marriage_others  marriage_single  education_high_school  education_others  \\\n",
       "0                0                0                      0                 0   \n",
       "2                0                1                      0                 0   \n",
       "3                0                0                      0                 0   \n",
       "4                0                0                      0                 0   \n",
       "5                0                1                      0                 0   \n",
       "\n",
       "   education_university  \n",
       "0                     1  \n",
       "2                     1  \n",
       "3                     1  \n",
       "4                     1  \n",
       "5                     0  \n",
       "\n",
       "[5 rows x 27 columns]"
      ]
     },
     "execution_count": 46,
     "metadata": {},
     "output_type": "execute_result"
    }
   ],
   "source": [
    "df2.head()"
   ]
  },
  {
   "cell_type": "code",
   "execution_count": 47,
   "metadata": {},
   "outputs": [
    {
     "data": {
      "text/plain": [
       "(28681, 27)"
      ]
     },
     "execution_count": 47,
     "metadata": {},
     "output_type": "execute_result"
    }
   ],
   "source": [
    "# after dropping irrelevant we are left with this shape so 1319 rows got deleted.\n",
    "\n",
    "df2.shape"
   ]
  },
  {
   "cell_type": "code",
   "execution_count": 26,
   "metadata": {},
   "outputs": [],
   "source": [
    "X = df2.drop('default',axis=1)\n",
    "y = df2.default\n",
    "\n",
    "X_train,X_test,y_train,y_test=train_test_split(X,y,test_size=0.3,random_state=42,stratify=y)\n",
    "\n",
    "sc = StandardScaler()\n",
    "X_train_scaled = sc.fit_transform(X_train)\n",
    "X_test_scaled = sc.transform(X_test)"
   ]
  },
  {
   "cell_type": "code",
   "execution_count": 42,
   "metadata": {},
   "outputs": [],
   "source": [
    "models=[]\n",
    "models.append(('Logistic Regression',LogisticRegression(random_state=42)))\n",
    "\n",
    "models.append(('Random Forest',RandomForestClassifier(random_state=42)))\n",
    "\n",
    "models.append(('Gradient Boost',GradientBoostingClassifier(random_state=42)))\n",
    "\n",
    "models.append(('Ada Boost',AdaBoostClassifier(random_state=42)))"
   ]
  },
  {
   "cell_type": "code",
   "execution_count": 43,
   "metadata": {},
   "outputs": [],
   "source": [
    "# Evaluating Each model\n",
    "\n",
    "\n",
    "names=[]\n",
    "predictions=[]\n",
    "score = []\n",
    "bias_error = []\n",
    "var_error = []\n",
    "for name,model in models:\n",
    "    fold=KFold(shuffle=True,n_splits=5,random_state=1)\n",
    "    if name == 'Gradient Boost' or 'Logistic Regression':\n",
    "        result=cross_val_score(model,X_train_scaled,y_train,cv=fold,scoring='roc_auc')\n",
    "    else:\n",
    "        result=cross_val_score(model,X_train,y_train,cv=fold,scoring='roc_auc')\n",
    "    predictions.append(result)\n",
    "    names.append(name)\n",
    "    score.append(result.mean())\n",
    "    bias_error.append(1-result.mean())\n",
    "    var_error.append(np.std(result,ddof=1)**2)"
   ]
  },
  {
   "cell_type": "code",
   "execution_count": 44,
   "metadata": {},
   "outputs": [
    {
     "data": {
      "text/html": [
       "<div>\n",
       "<style scoped>\n",
       "    .dataframe tbody tr th:only-of-type {\n",
       "        vertical-align: middle;\n",
       "    }\n",
       "\n",
       "    .dataframe tbody tr th {\n",
       "        vertical-align: top;\n",
       "    }\n",
       "\n",
       "    .dataframe thead th {\n",
       "        text-align: right;\n",
       "    }\n",
       "</style>\n",
       "<table border=\"1\" class=\"dataframe\">\n",
       "  <thead>\n",
       "    <tr style=\"text-align: right;\">\n",
       "      <th></th>\n",
       "      <th>AUC Score</th>\n",
       "      <th>Bias Error</th>\n",
       "      <th>Variance Error</th>\n",
       "    </tr>\n",
       "  </thead>\n",
       "  <tbody>\n",
       "    <tr>\n",
       "      <th>Logistic Regression</th>\n",
       "      <td>0.851458</td>\n",
       "      <td>0.148542</td>\n",
       "      <td>0.000019</td>\n",
       "    </tr>\n",
       "    <tr>\n",
       "      <th>Random Forest</th>\n",
       "      <td>0.841119</td>\n",
       "      <td>0.158881</td>\n",
       "      <td>0.000066</td>\n",
       "    </tr>\n",
       "    <tr>\n",
       "      <th>Gradient Boost</th>\n",
       "      <td>0.860193</td>\n",
       "      <td>0.139807</td>\n",
       "      <td>0.000051</td>\n",
       "    </tr>\n",
       "    <tr>\n",
       "      <th>Ada Boost</th>\n",
       "      <td>0.854790</td>\n",
       "      <td>0.145210</td>\n",
       "      <td>0.000028</td>\n",
       "    </tr>\n",
       "  </tbody>\n",
       "</table>\n",
       "</div>"
      ],
      "text/plain": [
       "                     AUC Score  Bias Error  Variance Error\n",
       "Logistic Regression   0.851458    0.148542        0.000019\n",
       "Random Forest         0.841119    0.158881        0.000066\n",
       "Gradient Boost        0.860193    0.139807        0.000051\n",
       "Ada Boost             0.854790    0.145210        0.000028"
      ]
     },
     "execution_count": 44,
     "metadata": {},
     "output_type": "execute_result"
    }
   ],
   "source": [
    "acc_df = pd.DataFrame({'AUC Score':score,'Bias Error':bias_error,'Variance Error':var_error},index=names)\n",
    "\n",
    "acc_df"
   ]
  },
  {
   "cell_type": "markdown",
   "metadata": {},
   "source": [
    "From the above dataframe, we can see that after dropping irrelavant rows there is a significant increase in AUC Score.\n",
    "So, it was a good decision to make. Now we do hypertuning of these models."
   ]
  },
  {
   "cell_type": "markdown",
   "metadata": {},
   "source": [
    "# Hyperparameter Tuning\n",
    "\n",
    "# Logistic Regression\n"
   ]
  },
  {
   "cell_type": "code",
   "execution_count": 46,
   "metadata": {},
   "outputs": [],
   "source": [
    "fold=KFold(shuffle=True,n_splits=5,random_state=42)\n",
    "\n",
    "lr = LogisticRegression(random_state=42,solver='liblinear',class_weight='balanced')\n",
    "\n",
    "lr_params = {'penalty':['l1','l2'],'C':[1.0,0.1,0.01,0.001,0.0001]}"
   ]
  },
  {
   "cell_type": "code",
   "execution_count": 47,
   "metadata": {},
   "outputs": [
    {
     "name": "stdout",
     "output_type": "stream",
     "text": [
      "AUC Score: 0.8528555567644374\n",
      "Best Parameters: {'C': 0.01, 'penalty': 'l1'}\n"
     ]
    }
   ],
   "source": [
    "gs_lr = GridSearchCV(lr,lr_params,cv=fold,scoring='roc_auc')\n",
    "\n",
    "gs_lr.fit(X_train_scaled,y_train)\n",
    "\n",
    "print('AUC Score:',gs_lr.best_score_)\n",
    "print('Best Parameters:',gs_lr.best_params_)"
   ]
  },
  {
   "cell_type": "markdown",
   "metadata": {},
   "source": [
    "# Random Forest"
   ]
  },
  {
   "cell_type": "code",
   "execution_count": 48,
   "metadata": {},
   "outputs": [],
   "source": [
    "rf = RandomForestClassifier(random_state=42,class_weight='balanced')\n",
    "\n",
    "rf_params = {'n_estimators': sp_randint(30,150),'max_depth': sp_randint(2,10),'min_samples_leaf': sp_randint(1,20),\n",
    "            'min_samples_split': sp_randint(2,20), 'max_features': sp_randint(2,24),'criterion': ['gini','entropy']}"
   ]
  },
  {
   "cell_type": "code",
   "execution_count": 49,
   "metadata": {},
   "outputs": [
    {
     "name": "stdout",
     "output_type": "stream",
     "text": [
      "AUC Score: 0.8588185111645948\n",
      "Best Parameters: {'criterion': 'entropy', 'max_depth': 7, 'max_features': 13, 'min_samples_leaf': 17, 'min_samples_split': 11, 'n_estimators': 121}\n"
     ]
    }
   ],
   "source": [
    "rs_rf = RandomizedSearchCV(rf, rf_params, cv=fold, random_state=42,scoring='roc_auc')\n",
    "rs_rf.fit(X_train,y_train)\n",
    "\n",
    "print('AUC Score:',rs_rf.best_score_)\n",
    "print('Best Parameters:',rs_rf.best_params_)"
   ]
  },
  {
   "cell_type": "markdown",
   "metadata": {},
   "source": [
    "# Gradient Boost Classifier"
   ]
  },
  {
   "cell_type": "code",
   "execution_count": 50,
   "metadata": {},
   "outputs": [],
   "source": [
    "gb = GradientBoostingClassifier(random_state=42)\n",
    "gb_param = {'n_estimators':np.arange(50,150)}"
   ]
  },
  {
   "cell_type": "code",
   "execution_count": 51,
   "metadata": {},
   "outputs": [
    {
     "name": "stdout",
     "output_type": "stream",
     "text": [
      "AUC Score: 0.8599703336457752\n",
      "Best Parameters: {'n_estimators': 73}\n"
     ]
    }
   ],
   "source": [
    "gs_gb = GridSearchCV(gb,gb_param,cv=fold,scoring='roc_auc')\n",
    "gs_gb.fit(X_train_scaled,y_train)\n",
    "\n",
    "print('AUC Score:',gs_gb.best_score_)\n",
    "print('Best Parameters:',gs_gb.best_params_)"
   ]
  },
  {
   "cell_type": "markdown",
   "metadata": {},
   "source": [
    "# Ada Boost Classifier\n"
   ]
  },
  {
   "cell_type": "code",
   "execution_count": 52,
   "metadata": {},
   "outputs": [],
   "source": [
    "boost = AdaBoostClassifier(random_state=42)\n",
    "boost_param = {'n_estimators':np.arange(10,100)}"
   ]
  },
  {
   "cell_type": "code",
   "execution_count": 53,
   "metadata": {},
   "outputs": [
    {
     "name": "stdout",
     "output_type": "stream",
     "text": [
      "AUC Score: 0.8552206285223601\n",
      "Best Parameters: {'n_estimators': 40}\n"
     ]
    }
   ],
   "source": [
    "gs_boost = GridSearchCV(boost,boost_param,cv=fold, scoring='roc_auc')\n",
    "gs_boost.fit(X_train,y_train)\n",
    "\n",
    "print('AUC Score:',gs_boost.best_score_)\n",
    "print('Best Parameters:',gs_boost.best_params_)"
   ]
  },
  {
   "cell_type": "code",
   "execution_count": 54,
   "metadata": {},
   "outputs": [],
   "source": [
    "# Keeping all models in a list\n",
    "\n",
    "models=[]\n",
    "models.append(('Logistic Regression',LogisticRegression(C=0.01,penalty='l1',class_weight='balanced',\n",
    "                                                       solver='liblinear',random_state=42)))\n",
    "\n",
    "models.append(('Random Forest',RandomForestClassifier(criterion='entropy', max_depth= 7,max_features=13, min_samples_leaf= 17,\n",
    "                                                      min_samples_split=11, n_estimators=121, random_state=42,\n",
    "                                                      class_weight='balanced')))\n",
    "\n",
    "models.append(('Gradient Boost',GradientBoostingClassifier(n_estimators=73,random_state=42)))\n",
    "\n",
    "models.append(('Ada Boost',AdaBoostClassifier(n_estimators=40,random_state=42)))"
   ]
  },
  {
   "cell_type": "code",
   "execution_count": 55,
   "metadata": {},
   "outputs": [],
   "source": [
    "# Evaluating Each model\n",
    "\n",
    "names=[]\n",
    "predictions=[]\n",
    "score = []\n",
    "bias_error = []\n",
    "var_error = []\n",
    "for name,model in models:\n",
    "    fold=KFold(shuffle=True,n_splits=5,random_state=1)\n",
    "    if name == 'Gradient Boost' or 'Logistic Regression':\n",
    "        result=cross_val_score(model,X_train_scaled,y_train,cv=fold,scoring='roc_auc')\n",
    "    else:\n",
    "        result=cross_val_score(model,X_train,y_train,cv=fold,scoring='roc_auc')\n",
    "    predictions.append(result)\n",
    "    names.append(name)\n",
    "    score.append(result.mean())\n",
    "    bias_error.append(1-result.mean())\n",
    "    var_error.append(np.std(result,ddof=1)**2)"
   ]
  },
  {
   "cell_type": "code",
   "execution_count": 56,
   "metadata": {},
   "outputs": [
    {
     "data": {
      "text/html": [
       "<div>\n",
       "<style scoped>\n",
       "    .dataframe tbody tr th:only-of-type {\n",
       "        vertical-align: middle;\n",
       "    }\n",
       "\n",
       "    .dataframe tbody tr th {\n",
       "        vertical-align: top;\n",
       "    }\n",
       "\n",
       "    .dataframe thead th {\n",
       "        text-align: right;\n",
       "    }\n",
       "</style>\n",
       "<table border=\"1\" class=\"dataframe\">\n",
       "  <thead>\n",
       "    <tr style=\"text-align: right;\">\n",
       "      <th></th>\n",
       "      <th>AUC Score</th>\n",
       "      <th>Bias Error</th>\n",
       "      <th>Variance Error</th>\n",
       "    </tr>\n",
       "  </thead>\n",
       "  <tbody>\n",
       "    <tr>\n",
       "      <th>Logistic Regression</th>\n",
       "      <td>0.853713</td>\n",
       "      <td>0.146287</td>\n",
       "      <td>0.000023</td>\n",
       "    </tr>\n",
       "    <tr>\n",
       "      <th>Random Forest</th>\n",
       "      <td>0.858531</td>\n",
       "      <td>0.141469</td>\n",
       "      <td>0.000066</td>\n",
       "    </tr>\n",
       "    <tr>\n",
       "      <th>Gradient Boost</th>\n",
       "      <td>0.860287</td>\n",
       "      <td>0.139713</td>\n",
       "      <td>0.000051</td>\n",
       "    </tr>\n",
       "    <tr>\n",
       "      <th>Ada Boost</th>\n",
       "      <td>0.855090</td>\n",
       "      <td>0.144910</td>\n",
       "      <td>0.000039</td>\n",
       "    </tr>\n",
       "  </tbody>\n",
       "</table>\n",
       "</div>"
      ],
      "text/plain": [
       "                     AUC Score  Bias Error  Variance Error\n",
       "Logistic Regression   0.853713    0.146287        0.000023\n",
       "Random Forest         0.858531    0.141469        0.000066\n",
       "Gradient Boost        0.860287    0.139713        0.000051\n",
       "Ada Boost             0.855090    0.144910        0.000039"
      ]
     },
     "execution_count": 56,
     "metadata": {},
     "output_type": "execute_result"
    }
   ],
   "source": [
    "acc_df = pd.DataFrame({'AUC Score':score,'Bias Error':bias_error,'Variance Error':var_error},index=names)\n",
    "\n",
    "acc_df"
   ]
  },
  {
   "cell_type": "markdown",
   "metadata": {},
   "source": [
    "# Testing the score of each model on test data"
   ]
  },
  {
   "cell_type": "code",
   "execution_count": 28,
   "metadata": {},
   "outputs": [],
   "source": [
    "def build_model(algo, x_train, y_train, x_test):\n",
    "    y_pred = algo.fit(x_train, y_train).predict(x_test)\n",
    "    y_pred_proba = algo.fit(x_train, y_train).predict_proba(x_test)[:,1]\n",
    "    return y_pred,y_pred_proba"
   ]
  },
  {
   "cell_type": "code",
   "execution_count": 43,
   "metadata": {},
   "outputs": [],
   "source": [
    "def predict_score(y_test, y_pred,y_pred_proba):\n",
    "    acc = accuracy_score(y_test, y_pred)\n",
    "    rocaucscore = roc_auc_score(y_test,y_pred_proba)\n",
    "    cm = confusion_matrix(y_test, y_pred)\n",
    "    cr = classification_report(y_test, y_pred)\n",
    "    return acc, rocaucscore, cm,cr"
   ]
  },
  {
   "cell_type": "markdown",
   "metadata": {},
   "source": [
    "**Logistic Regression**"
   ]
  },
  {
   "cell_type": "code",
   "execution_count": 44,
   "metadata": {},
   "outputs": [],
   "source": [
    "lr = LogisticRegression(C=0.01,penalty='l1',class_weight='balanced',\n",
    "                                                       solver='liblinear',random_state=42)\n",
    "\n",
    "lr_y_pred,lr_y_pred_proba = build_model(lr,X_train,y_train,X_test)"
   ]
  },
  {
   "cell_type": "code",
   "execution_count": 45,
   "metadata": {},
   "outputs": [
    {
     "name": "stdout",
     "output_type": "stream",
     "text": [
      "Confusion Matrix:\n",
      " [[6057  953]\n",
      " [ 570 1025]]\n",
      "Accuracy of Test: 0.8230098779779198\n",
      "AUC of Test: 0.8533607609371298\n",
      "Classification Report of Test:\n",
      "               precision    recall  f1-score   support\n",
      "\n",
      "           0       0.91      0.86      0.89      7010\n",
      "           1       0.52      0.64      0.57      1595\n",
      "\n",
      "    accuracy                           0.82      8605\n",
      "   macro avg       0.72      0.75      0.73      8605\n",
      "weighted avg       0.84      0.82      0.83      8605\n",
      "\n"
     ]
    }
   ],
   "source": [
    "accuracy,roc_auc,cm,cr = predict_score(y_test, lr_y_pred, lr_y_pred_proba)\n",
    "\n",
    "print('Confusion Matrix:\\n', cm)\n",
    "print('Accuracy of Test:', accuracy)\n",
    "print('AUC of Test:', roc_auc)\n",
    "print('Classification Report of Test:\\n',cr)"
   ]
  },
  {
   "cell_type": "markdown",
   "metadata": {},
   "source": [
    "**Random Forest Classifier**"
   ]
  },
  {
   "cell_type": "code",
   "execution_count": 52,
   "metadata": {},
   "outputs": [],
   "source": [
    "rf = RandomForestClassifier(criterion='entropy', max_depth= 7,max_features=13, min_samples_leaf= 17,\n",
    "                                                      min_samples_split=11, n_estimators=121, random_state=42,\n",
    "                                                      class_weight='balanced')\n",
    "\n",
    "rf_y_pred,rf_y_pred_proba = build_model(rf,X_train,y_train,X_test)"
   ]
  },
  {
   "cell_type": "code",
   "execution_count": 53,
   "metadata": {},
   "outputs": [
    {
     "name": "stdout",
     "output_type": "stream",
     "text": [
      "Confusion Matrix:\n",
      " [[5944 1066]\n",
      " [ 472 1123]]\n",
      "Accuracy of Test: 0.821266705403835\n",
      "AUC of Test: 0.8632763316176174\n",
      "Classification Report of Test:\n",
      "               precision    recall  f1-score   support\n",
      "\n",
      "           0       0.93      0.85      0.89      7010\n",
      "           1       0.51      0.70      0.59      1595\n",
      "\n",
      "    accuracy                           0.82      8605\n",
      "   macro avg       0.72      0.78      0.74      8605\n",
      "weighted avg       0.85      0.82      0.83      8605\n",
      "\n"
     ]
    }
   ],
   "source": [
    "accuracy,roc_auc,cm,cr = predict_score(y_test, rf_y_pred, rf_y_pred_proba)\n",
    "\n",
    "print('Confusion Matrix:\\n', cm)\n",
    "print('Accuracy of Test:', accuracy)\n",
    "print('AUC of Test:', roc_auc)\n",
    "print('Classification Report of Test:\\n',cr)"
   ]
  },
  {
   "cell_type": "markdown",
   "metadata": {},
   "source": [
    "**Gradient Boost Classifier**"
   ]
  },
  {
   "cell_type": "code",
   "execution_count": 57,
   "metadata": {},
   "outputs": [],
   "source": [
    "gb = GradientBoostingClassifier(n_estimators=73,random_state=42)\n",
    "\n",
    "gb_y_pred,gb_y_pred_proba = build_model(gb,X_train_scaled,y_train,X_test_scaled)"
   ]
  },
  {
   "cell_type": "code",
   "execution_count": 58,
   "metadata": {},
   "outputs": [
    {
     "name": "stdout",
     "output_type": "stream",
     "text": [
      "Confusion Matrix:\n",
      " [[6664  346]\n",
      " [ 898  697]]\n",
      "Accuracy of Test: 0.8554328878558978\n",
      "AUC of Test: 0.8616056327950666\n",
      "Classification Report of Test:\n",
      "               precision    recall  f1-score   support\n",
      "\n",
      "           0       0.88      0.95      0.91      7010\n",
      "           1       0.67      0.44      0.53      1595\n",
      "\n",
      "    accuracy                           0.86      8605\n",
      "   macro avg       0.77      0.69      0.72      8605\n",
      "weighted avg       0.84      0.86      0.84      8605\n",
      "\n"
     ]
    }
   ],
   "source": [
    "accuracy,roc_auc,cm,cr = predict_score(y_test, gb_y_pred, gb_y_pred_proba)\n",
    "\n",
    "print('Confusion Matrix:\\n', cm)\n",
    "print('Accuracy of Test:', accuracy)\n",
    "print('AUC of Test:', roc_auc)\n",
    "print('Classification Report of Test:\\n',cr)"
   ]
  },
  {
   "cell_type": "markdown",
   "metadata": {},
   "source": [
    "**Ada Boost Classifier**"
   ]
  },
  {
   "cell_type": "code",
   "execution_count": 62,
   "metadata": {},
   "outputs": [],
   "source": [
    "boost = AdaBoostClassifier(n_estimators=40,random_state=42)\n",
    "\n",
    "ada_y_pred,ada_y_pred_proba = build_model(boost,X_train_scaled,y_train,X_test_scaled)"
   ]
  },
  {
   "cell_type": "code",
   "execution_count": 63,
   "metadata": {},
   "outputs": [
    {
     "name": "stdout",
     "output_type": "stream",
     "text": [
      "Confusion Matrix:\n",
      " [[6696  314]\n",
      " [ 933  662]]\n",
      "Accuracy of Test: 0.8550842533410807\n",
      "AUC of Test: 0.8601870592391523\n",
      "Classification Report of Test:\n",
      "               precision    recall  f1-score   support\n",
      "\n",
      "           0       0.88      0.96      0.91      7010\n",
      "           1       0.68      0.42      0.51      1595\n",
      "\n",
      "    accuracy                           0.86      8605\n",
      "   macro avg       0.78      0.69      0.71      8605\n",
      "weighted avg       0.84      0.86      0.84      8605\n",
      "\n"
     ]
    }
   ],
   "source": [
    "accuracy,roc_auc,cm,cr = predict_score(y_test, ada_y_pred, ada_y_pred_proba)\n",
    "\n",
    "print('Confusion Matrix:\\n', cm)\n",
    "print('Accuracy of Test:', accuracy)\n",
    "print('AUC of Test:', roc_auc)\n",
    "print('Classification Report of Test:\\n',cr)"
   ]
  },
  {
   "cell_type": "markdown",
   "metadata": {},
   "source": [
    "**Ploting ROC Curve of different model to finalize which is better of all.**"
   ]
  },
  {
   "cell_type": "code",
   "execution_count": 72,
   "metadata": {},
   "outputs": [
    {
     "data": {
      "image/png": "[encoded data removed]",
      "text/plain": [
       "<Figure size 1296x864 with 1 Axes>"
      ]
     },
     "metadata": {
      "needs_background": "light"
     },
     "output_type": "display_data"
    }
   ],
   "source": [
    "# To plot ROC curve\n",
    "\n",
    "lr_fpr, lr_tpr, thresholds = roc_curve(y_test,lr_y_pred_proba)\n",
    "rf_fpr, rf_tpr, thresholds = roc_curve(y_test,rf_y_pred_proba)\n",
    "gb_fpr, gb_tpr, thresholds = roc_curve(y_test,gb_y_pred_proba)\n",
    "ada_fpr, ada_tpr, thresholds = roc_curve(y_test,ada_y_pred_proba)\n",
    "\n",
    "plt.figure(figsize=(18,12))\n",
    "plt.plot(lr_fpr,lr_tpr,color='blue')\n",
    "plt.plot(rf_fpr,rf_tpr,color='red')\n",
    "plt.plot(gb_fpr,gb_tpr,color='green')\n",
    "plt.plot(ada_fpr,ada_tpr,color='yellow')\n",
    "\n",
    "plt.plot(fpr,fpr,color='black',linestyle='dashed')\n",
    "plt.xlabel('FPR')\n",
    "plt.ylabel('TPR')\n",
    "plt.title('ROC Curve of different models')\n",
    "plt.legend(labels=['Logistic Regression','Random Forest','Gradient Boost','Ada Boost'])\n",
    "plt.show()"
   ]
  },
  {
   "cell_type": "markdown",
   "metadata": {},
   "source": [
    "From the above ROC Curve of wecan see that all the models are approximately similar but Random Forest has the max AUC Score of 86.32% which is highest among all with a recall of 0.70 and recall is our evaluation metric as it is also known as True Positive Rate. Becasuse predicting default customers is our main concern here."
   ]
  },
  {
   "cell_type": "markdown",
   "metadata": {},
   "source": [
    "So, final selected model would be **Random Forest** with a AUC Score of 86.32% and accuracy of 82.12% and highest F1-Score of 0.59 as well among others."
   ]
  },
  {
   "cell_type": "code",
   "execution_count": null,
   "metadata": {},
   "outputs": [],
   "source": []
  }
 ],
 "metadata": {
  "kernelspec": {
   "display_name": "Python 3",
   "language": "python",
   "name": "python3"
  },
  "language_info": {
   "codemirror_mode": {
    "name": "ipython",
    "version": 3
   },
   "file_extension": ".py",
   "mimetype": "text/x-python",
   "name": "python",
   "nbconvert_exporter": "python",
   "pygments_lexer": "ipython3",
   "version": "3.8.3"
  }
 },
 "nbformat": 4,
 "nbformat_minor": 4
}
